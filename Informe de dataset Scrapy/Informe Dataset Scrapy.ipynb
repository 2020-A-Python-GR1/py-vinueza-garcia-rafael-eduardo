{
 "cells": [
  {
   "cell_type": "markdown",
   "metadata": {},
   "source": [
    "# <center>Informe Scrapy: Ranking de universidades alrededor del mundo</center>\n",
    "![Logo de universidad](https://img.icons8.com/ios/452/university.png)"
   ]
  },
  {
   "cell_type": "markdown",
   "metadata": {},
   "source": [
    "## Descripcion de la pagina web y recoleccion de datos"
   ]
  },
  {
   "cell_type": "markdown",
   "metadata": {},
   "source": [
    "<p style=\"text-align: justify;\">Este dataset contiene el ranking de las universidades en su respectivo pais alrededor del mundo basado en información de The World Data Bank y la UNESCO. La informacion fue tomada de la página web World University Rankings y se encuentra disponible en el siguiente enlace: https://cwur.org/. Dentro de la pagina en la pestaña de World University Rankings se encuentra una tabla con las columnas World Rank,\tInstitution\tLocation, National Rank, Quality of Education, Alumni Employment, Quality of Faculty, Research Output, Quality Publications, Influence, Citations y Score para los rankings de todos los años a partir del 2012. Para realizar la recolección de datos se ha creado un proyecto de scrapy en el mismo directorio de este archivo el cual contiene 2 arañas, una para el año 2012 y otra para el año 2018, las cuales buscan la información en la pagina oficial de cwur y la guardan en dos archivos csv los cuales seran analizados en base a las preguntas planteadas</p>"
   ]
  },
  {
   "cell_type": "markdown",
   "metadata": {},
   "source": [
    "## Carga de datos"
   ]
  },
  {
   "cell_type": "markdown",
   "metadata": {},
   "source": [
    "<p style=\"text-align: justify;\">Primero vamos a cargar los datos del archivo csv que se generó tras realizar scrapy a la página de cwur el cual tiene el formato de un dataset lo que facilitara la búsqueda de datos. También importaremos las librerías numpy, pandas y matplotlib que serán utilizadas a lo largo del informe</p>"
   ]
  },
  {
   "cell_type": "code",
   "execution_count": 90,
   "metadata": {},
   "outputs": [],
   "source": [
    "import numpy as np\n",
    "import pandas as pd \n",
    "import matplotlib.pyplot as plt\n",
    "\n",
    "dataframe_universidades_2012 = pd.read_csv('scrapy/arania_universidades/arania_universidades/spiders/data_scrapy_2012.csv')\n",
    "dataframe_universidades_2018 = pd.read_csv('scrapy/arania_universidades/arania_universidades/spiders/data_scrapy_2018.csv')"
   ]
  },
  {
   "cell_type": "markdown",
   "metadata": {},
   "source": [
    "## Preguntas"
   ]
  },
  {
   "cell_type": "markdown",
   "metadata": {},
   "source": [
    "### 1.- ¿Cuales fueron las 10 mejores universidades de todo el mundo en el año 2012?"
   ]
  },
  {
   "cell_type": "code",
   "execution_count": 91,
   "metadata": {},
   "outputs": [
    {
     "data": {
      "image/png": "[encoded data removed]",
      "text/plain": [
       "<Figure size 432x288 with 1 Axes>"
      ]
     },
     "metadata": {
      "needs_background": "light"
     },
     "output_type": "display_data"
    },
    {
     "name": "stdout",
     "output_type": "stream",
     "text": [
      "u_1 = Harvard University\n",
      "u_2 = Massachusetts Institute of Technology\n",
      "u_3 = Stanford University\n",
      "u_4 = University of Cambridge\n",
      "u_5 = California Institute of Technology\n",
      "u_6 = Princeton University\n",
      "u_7 = University of Oxford\n",
      "u_8 = Yale University\n",
      "u_9 = Columbia University\n",
      "u_10 = University of California, Berkeley\n"
     ]
    }
   ],
   "source": [
    "dataframe_resultado = dataframe_universidades_2012\n",
    "dataframe_resultado = dataframe_resultado.head(10)\n",
    "\n",
    "titulos = dataframe_resultado['Institution'].map(lambda x: x)\n",
    "titulos_grafico = np.array(['u_1','u_2','u_3','u_4','u_5','u_6','u_7','u_8','u_9','u_10'])\n",
    "puntaje = dataframe_resultado['Score'].map(lambda x: x)\n",
    "\n",
    "fig, ax = plt.subplots()\n",
    "ax.bar(titulos_grafico, puntaje)\n",
    "ax.set_ylabel('Puntaje')\n",
    "ax.set_xlabel('Universidad')\n",
    "ax.grid(True)\n",
    "\n",
    "plt.show()\n",
    "\n",
    "for i in range(len(titulos)):\n",
    "    print('u_' + str((i + 1)) + ' = ' + titulos[i])"
   ]
  },
  {
   "cell_type": "markdown",
   "metadata": {},
   "source": [
    "### 2.- ¿Cuales fueron las 10 universidades con menor puntaje de todo el mundo en el año 2012?"
   ]
  },
  {
   "cell_type": "code",
   "execution_count": 92,
   "metadata": {},
   "outputs": [
    {
     "data": {
      "image/png": "[encoded data removed]",
      "text/plain": [
       "<Figure size 432x288 with 1 Axes>"
      ]
     },
     "metadata": {
      "needs_background": "light"
     },
     "output_type": "display_data"
    },
    {
     "name": "stdout",
     "output_type": "stream",
     "text": [
      "u_1 = Mines ParisTech\n",
      "u_2 = Utrecht University\n",
      "u_3 = University of Bristol\n",
      "u_4 = University of Nottingham\n",
      "u_5 = University of Texas MD Anderson Cancer Center\n",
      "u_6 = Williams College\n",
      "u_7 = University of Sydney\n",
      "u_8 = University of Copenhagen\n",
      "u_9 = University of Queensland\n",
      "u_10 = University of Oslo\n"
     ]
    }
   ],
   "source": [
    "dataframe_resultado = dataframe_universidades_2012.sort_values('Score',ascending=True)\n",
    "dataframe_resultado = dataframe_resultado.head(10)\n",
    "\n",
    "titulos = dataframe_resultado['Institution'].map(lambda x: x)\n",
    "titulos_grafico = np.array(['u_1','u_2','u_3','u_4','u_5','u_6','u_7','u_8','u_9','u_10'])\n",
    "puntaje = dataframe_resultado['Score'].map(lambda x: x)\n",
    "\n",
    "fig, ax = plt.subplots()\n",
    "ax.bar(titulos_grafico, puntaje)\n",
    "ax.set_ylabel('Puntaje')\n",
    "ax.set_xlabel('Universidad')\n",
    "ax.grid(True)\n",
    "\n",
    "plt.show()\n",
    "\n",
    "i = 1\n",
    "for titulo in titulos:\n",
    "    print('u_' + str(i) + ' = ' + titulo)\n",
    "    i = i + 1"
   ]
  },
  {
   "cell_type": "markdown",
   "metadata": {},
   "source": [
    "### 3.- ¿Cuales fueron los 10 paises con las mejores universidades de todo el mundo en el año 2012?"
   ]
  },
  {
   "cell_type": "code",
   "execution_count": 93,
   "metadata": {},
   "outputs": [
    {
     "data": {
      "image/png": "[encoded data removed]",
      "text/plain": [
       "<Figure size 432x288 with 1 Axes>"
      ]
     },
     "metadata": {
      "needs_background": "light"
     },
     "output_type": "display_data"
    },
    {
     "name": "stdout",
     "output_type": "stream",
     "text": [
      "p_1 = USA\n",
      "p_2 = United Kingdom\n",
      "p_3 = Japan\n",
      "p_4 = Switzerland\n",
      "p_5 = Israel\n",
      "p_6 = Canada\n",
      "p_7 = France\n",
      "p_8 = Sweden\n",
      "p_9 = South Korea\n",
      "p_10 = Italy\n"
     ]
    }
   ],
   "source": [
    "dataframe_resultado = dataframe_universidades_2012.sort_values('Score',ascending=False)\n",
    "dataframe_resultado = dataframe_resultado.drop_duplicates(['Location'], keep='first')\n",
    "dataframe_resultado = dataframe_resultado.head(10)\n",
    "\n",
    "titulos = dataframe_resultado['Location'].map(lambda x: x)\n",
    "titulos_grafico = np.array(['p_1','p_2','p_3','p_4','p_5','p_6','p_7','p_8','p_9','p_10'])\n",
    "puntaje = dataframe_resultado['Score'].map(lambda x: x)\n",
    "\n",
    "fig, ax = plt.subplots()\n",
    "ax.bar(titulos_grafico, puntaje)\n",
    "ax.set_ylabel('Puntaje')\n",
    "ax.set_xlabel('Pais')\n",
    "ax.grid(True)\n",
    "\n",
    "plt.show()\n",
    "\n",
    "i = 1\n",
    "for titulo in titulos:\n",
    "    print('p_' + str(i) + ' = ' + titulo)\n",
    "    i = i + 1"
   ]
  },
  {
   "cell_type": "markdown",
   "metadata": {},
   "source": [
    "### 4.- ¿Cuales fueron los 10 paises de menor puntaje en todo el mundo en el año 2012?"
   ]
  },
  {
   "cell_type": "code",
   "execution_count": 95,
   "metadata": {},
   "outputs": [
    {
     "data": {
      "image/png": "[encoded data removed]",
      "text/plain": [
       "<Figure size 432x288 with 1 Axes>"
      ]
     },
     "metadata": {
      "needs_background": "light"
     },
     "output_type": "display_data"
    },
    {
     "name": "stdout",
     "output_type": "stream",
     "text": [
      "p_1 = Denmark\n",
      "p_2 = Australia\n",
      "p_3 = Norway\n",
      "p_4 = Finland\n",
      "p_5 = Netherlands\n",
      "p_6 = Germany\n",
      "p_7 = Italy\n",
      "p_8 = South Korea\n",
      "p_9 = Sweden\n",
      "p_10 = France\n"
     ]
    }
   ],
   "source": [
    "dataframe_resultado = dataframe_universidades_2012.sort_values('Score',ascending=True)\n",
    "dataframe_resultado = dataframe_resultado.drop_duplicates(['Location'], keep='last')\n",
    "dataframe_resultado = dataframe_resultado.head(10)\n",
    "\n",
    "titulos = dataframe_resultado['Location'].map(lambda x: x)\n",
    "titulos_grafico = np.array(['p_1','p_2','p_3','p_4','p_5','p_6','p_7','p_8','p_9','p_10'])\n",
    "puntaje = dataframe_resultado['Score'].map(lambda x: x)\n",
    "\n",
    "fig, ax = plt.subplots()\n",
    "ax.bar(titulos_grafico, puntaje)\n",
    "ax.set_ylabel('Puntaje')\n",
    "ax.set_xlabel('Pais')\n",
    "ax.grid(True)\n",
    "\n",
    "plt.show()\n",
    "\n",
    "i = 1\n",
    "for titulo in titulos:\n",
    "    print('p_' + str(i) + ' = ' + titulo)\n",
    "    i = i + 1"
   ]
  },
  {
   "cell_type": "markdown",
   "metadata": {},
   "source": [
    "### 5.- ¿Cuales fueron las 10 universidades con mayor calidad de educacion de todo el mundo en el año 2012?"
   ]
  },
  {
   "cell_type": "code",
   "execution_count": 97,
   "metadata": {},
   "outputs": [
    {
     "data": {
      "image/png": "[encoded data removed]",
      "text/plain": [
       "<Figure size 432x288 with 1 Axes>"
      ]
     },
     "metadata": {
      "needs_background": "light"
     },
     "output_type": "display_data"
    },
    {
     "name": "stdout",
     "output_type": "stream",
     "text": [
      "u_1 = University of North Carolina at Chapel Hill\n",
      "u_2 = Utrecht University\n",
      "u_3 = Tel Aviv University\n",
      "u_4 = University of Helsinki\n",
      "u_5 = Purdue University, West Lafayette\n",
      "u_6 = University of Utah\n",
      "u_7 = Ludwig Maximilian University of Munich\n",
      "u_8 = New York University\n",
      "u_9 = Leiden University\n",
      "u_10 = Ruprecht Karl University of Heidelberg\n"
     ]
    }
   ],
   "source": [
    "dataframe_resultado = dataframe_universidades_2012.sort_values('Quality_of_Education',ascending=False)\n",
    "dataframe_resultado = dataframe_resultado.drop_duplicates(['Quality_of_Education'], keep='first')\n",
    "dataframe_resultado = dataframe_resultado.head(10)\n",
    "\n",
    "titulos = dataframe_resultado['Institution'].map(lambda x: x)\n",
    "titulos_grafico = np.array(['u_1','u_2','u_3','u_4','u_5','u_6','u_7','u_8','u_9','u_10'])\n",
    "puntaje = dataframe_resultado['Quality_of_Education'].map(lambda x: x)\n",
    "\n",
    "fig, ax = plt.subplots()\n",
    "ax.bar(titulos_grafico, puntaje)\n",
    "ax.set_ylabel('Puntaje Calidad de Educacion')\n",
    "ax.set_xlabel('Universidad')\n",
    "ax.grid(True)\n",
    "\n",
    "plt.show()\n",
    "\n",
    "i = 1\n",
    "for titulo in titulos:\n",
    "    print('u_' + str(i) + ' = ' + titulo)\n",
    "    i = i + 1"
   ]
  },
  {
   "cell_type": "markdown",
   "metadata": {},
   "source": [
    "### 6.- ¿Cuales fueron las 10 universidades con menor calidad de educacion de todo el mundo en el año 2012?"
   ]
  },
  {
   "cell_type": "code",
   "execution_count": 98,
   "metadata": {},
   "outputs": [
    {
     "data": {
      "image/png": "[encoded data removed]",
      "text/plain": [
       "<Figure size 432x288 with 1 Axes>"
      ]
     },
     "metadata": {
      "needs_background": "light"
     },
     "output_type": "display_data"
    },
    {
     "name": "stdout",
     "output_type": "stream",
     "text": [
      "u_1 = Rockefeller University\n",
      "u_2 = California Institute of Technology\n",
      "u_3 = École normale supérieure - Paris\n",
      "u_4 = Weizmann Institute of Science\n",
      "u_5 = Harvard University\n",
      "u_6 = Princeton University\n",
      "u_7 = Massachusetts Institute of Technology\n",
      "u_8 = University of Cambridge\n",
      "u_9 = University of Oxford\n",
      "u_10 = Yale University\n"
     ]
    }
   ],
   "source": [
    "dataframe_resultado = dataframe_universidades_2012.sort_values('Quality_of_Education',ascending=True)\n",
    "dataframe_resultado = dataframe_resultado.drop_duplicates(['Quality_of_Education'], keep='first')\n",
    "dataframe_resultado = dataframe_resultado.head(10)\n",
    "\n",
    "titulos = dataframe_resultado['Institution'].map(lambda x: x)\n",
    "titulos_grafico = np.array(['u_1','u_2','u_3','u_4','u_5','u_6','u_7','u_8','u_9','u_10'])\n",
    "puntaje = dataframe_resultado['Quality_of_Education'].map(lambda x: x)\n",
    "\n",
    "fig, ax = plt.subplots()\n",
    "ax.bar(titulos_grafico, puntaje)\n",
    "ax.set_ylabel('Puntaje Calidad de Educacion')\n",
    "ax.set_xlabel('Universidad')\n",
    "ax.grid(True)\n",
    "\n",
    "plt.show()\n",
    "\n",
    "i = 1\n",
    "for titulo in titulos:\n",
    "    print('u_' + str(i) + ' = ' + titulo)\n",
    "    i = i + 1"
   ]
  },
  {
   "cell_type": "markdown",
   "metadata": {},
   "source": [
    "### 7.- ¿Cuales fueron las 10 universidades con mayor cantidad de patentes en el año 2012?"
   ]
  },
  {
   "cell_type": "code",
   "execution_count": 99,
   "metadata": {},
   "outputs": [
    {
     "data": {
      "image/png": "[encoded data removed]",
      "text/plain": [
       "<Figure size 432x288 with 1 Axes>"
      ]
     },
     "metadata": {
      "needs_background": "light"
     },
     "output_type": "display_data"
    },
    {
     "name": "stdout",
     "output_type": "stream",
     "text": [
      "u_1 = Mines ParisTech\n",
      "u_2 = McGill University\n",
      "u_3 = University of Manchester\n",
      "u_4 = Texas A&M University, College Station\n",
      "u_5 = Karolinska Institute\n",
      "u_6 = University of Toronto\n",
      "u_7 = University of Maryland, College Park\n",
      "u_8 = University of British Columbia\n",
      "u_9 = Brown University\n",
      "u_10 = University of Washington - Seattle\n"
     ]
    }
   ],
   "source": [
    "dataframe_resultado = dataframe_universidades_2012.sort_values('Patents',ascending=False)\n",
    "dataframe_resultado = dataframe_resultado.head(10)\n",
    "\n",
    "titulos = dataframe_resultado['Institution'].map(lambda x: x)\n",
    "titulos_grafico = np.array(['u_1','u_2','u_3','u_4','u_5','u_6','u_7','u_8','u_9','u_10'])\n",
    "puntaje = dataframe_resultado['Patents'].map(lambda x: x)\n",
    "\n",
    "fig, ax = plt.subplots()\n",
    "ax.bar(titulos_grafico, puntaje)\n",
    "ax.set_ylabel('Patentes')\n",
    "ax.set_xlabel('Universidad')\n",
    "ax.grid(True)\n",
    "\n",
    "plt.show()\n",
    "\n",
    "i = 1\n",
    "for titulo in titulos:\n",
    "    print('u_' + str(i) + ' = ' + titulo)\n",
    "    i = i + 1"
   ]
  },
  {
   "cell_type": "markdown",
   "metadata": {},
   "source": [
    "### 8.- ¿Cuales fueron las 10 universidades con mayor cantidad de patentes en el año 2012?"
   ]
  },
  {
   "cell_type": "code",
   "execution_count": 101,
   "metadata": {},
   "outputs": [
    {
     "data": {
      "image/png": "[encoded data removed]",
      "text/plain": [
       "<Figure size 432x288 with 1 Axes>"
      ]
     },
     "metadata": {
      "needs_background": "light"
     },
     "output_type": "display_data"
    },
    {
     "name": "stdout",
     "output_type": "stream",
     "text": [
      "u_1 = Massachusetts Institute of Technology\n",
      "u_2 = University of Florida\n",
      "u_3 = University of Tokyo\n",
      "u_4 = Seoul National University\n",
      "u_5 = Harvard University\n",
      "u_6 = Columbia University\n",
      "u_7 = Johns Hopkins University\n",
      "u_8 = University of Michigan, Ann Arbor\n",
      "u_9 = University of Pennsylvania\n",
      "u_10 = Cornell University\n"
     ]
    }
   ],
   "source": [
    "dataframe_resultado = dataframe_universidades_2012.sort_values('Patents',ascending=True)\n",
    "dataframe_resultado = dataframe_resultado.head(10)\n",
    "\n",
    "titulos = dataframe_resultado['Institution'].map(lambda x: x)\n",
    "titulos_grafico = np.array(['u_1','u_2','u_3','u_4','u_5','u_6','u_7','u_8','u_9','u_10'])\n",
    "puntaje = dataframe_resultado['Patents'].map(lambda x: x)\n",
    "\n",
    "fig, ax = plt.subplots()\n",
    "ax.bar(titulos_grafico, puntaje)\n",
    "ax.set_ylabel('Patentes')\n",
    "ax.set_xlabel('Universidad')\n",
    "ax.grid(True)\n",
    "\n",
    "plt.show()\n",
    "\n",
    "i = 1\n",
    "for titulo in titulos:\n",
    "    print('u_' + str(i) + ' = ' + titulo)\n",
    "    i = i + 1"
   ]
  },
  {
   "cell_type": "markdown",
   "metadata": {},
   "source": [
    "### 9.- ¿Cuales fueron las 10 universidades con mayor calidad de la facultad en el año 2012?"
   ]
  },
  {
   "cell_type": "code",
   "execution_count": 102,
   "metadata": {},
   "outputs": [
    {
     "data": {
      "image/png": "[encoded data removed]",
      "text/plain": [
       "<Figure size 432x288 with 1 Axes>"
      ]
     },
     "metadata": {
      "needs_background": "light"
     },
     "output_type": "display_data"
    },
    {
     "name": "stdout",
     "output_type": "stream",
     "text": [
      "u_1 = Mines ParisTech\n",
      "u_2 = Tufts University\n",
      "u_3 = École Polytechnique\n",
      "u_4 = Vanderbilt University\n",
      "u_5 = Dartmouth College\n",
      "u_6 = University of Rochester\n",
      "u_7 = Washington University in St. Louis\n",
      "u_8 = University of Pittsburgh - Pittsburgh Campus\n",
      "u_9 = University of Michigan, Ann Arbor\n",
      "u_10 = Seoul National University\n"
     ]
    }
   ],
   "source": [
    "dataframe_resultado = dataframe_universidades_2012.sort_values('Quality_of_Faculty',ascending=False)\n",
    "dataframe_resultado = dataframe_resultado.head(10)\n",
    "\n",
    "titulos = dataframe_resultado['Institution'].map(lambda x: x)\n",
    "titulos_grafico = np.array(['u_1','u_2','u_3','u_4','u_5','u_6','u_7','u_8','u_9','u_10'])\n",
    "puntaje = dataframe_resultado['Quality_of_Faculty'].map(lambda x: x)\n",
    "\n",
    "fig, ax = plt.subplots()\n",
    "ax.bar(titulos_grafico, puntaje)\n",
    "ax.set_ylabel('Calidad de la facultad')\n",
    "ax.set_xlabel('Universidad')\n",
    "ax.grid(True)\n",
    "\n",
    "plt.show()\n",
    "\n",
    "i = 1\n",
    "for titulo in titulos:\n",
    "    print('u_' + str(i) + ' = ' + titulo)\n",
    "    i = i + 1"
   ]
  },
  {
   "cell_type": "markdown",
   "metadata": {},
   "source": [
    "### 10.- ¿Cuales fueron las 10 universidades con menor calidad de la facultad en el año 2012?"
   ]
  },
  {
   "cell_type": "code",
   "execution_count": 103,
   "metadata": {},
   "outputs": [
    {
     "data": {
      "image/png": "[encoded data removed]",
      "text/plain": [
       "<Figure size 432x288 with 1 Axes>"
      ]
     },
     "metadata": {
      "needs_background": "light"
     },
     "output_type": "display_data"
    },
    {
     "name": "stdout",
     "output_type": "stream",
     "text": [
      "u_1 = Harvard University\n",
      "u_2 = Princeton University\n",
      "u_3 = Massachusetts Institute of Technology\n",
      "u_4 = University of Cambridge\n",
      "u_5 = Stanford University\n",
      "u_6 = University of California, Berkeley\n",
      "u_7 = California Institute of Technology\n",
      "u_8 = University of Chicago\n",
      "u_9 = University of Oxford\n",
      "u_10 = Columbia University\n"
     ]
    }
   ],
   "source": [
    "dataframe_resultado = dataframe_universidades_2012.sort_values('Quality_of_Faculty',ascending=True)\n",
    "dataframe_resultado = dataframe_resultado.drop_duplicates(['Quality_of_Faculty'], keep='first')\n",
    "dataframe_resultado = dataframe_resultado.head(10)\n",
    "\n",
    "titulos = dataframe_resultado['Institution'].map(lambda x: x)\n",
    "titulos_grafico = np.array(['u_1','u_2','u_3','u_4','u_5','u_6','u_7','u_8','u_9','u_10'])\n",
    "puntaje = dataframe_resultado['Quality_of_Faculty'].map(lambda x: x)\n",
    "\n",
    "fig, ax = plt.subplots()\n",
    "ax.bar(titulos_grafico, puntaje)\n",
    "ax.set_ylabel('Calidad de la facultad')\n",
    "ax.set_xlabel('Universidad')\n",
    "ax.grid(True)\n",
    "\n",
    "plt.show()\n",
    "\n",
    "i = 1\n",
    "for titulo in titulos:\n",
    "    print('u_' + str(i) + ' = ' + titulo)\n",
    "    i = i + 1"
   ]
  },
  {
   "cell_type": "markdown",
   "metadata": {},
   "source": [
    "### 11.- ¿Cuales fueron las 10 mejores universidades de todo el mundo en el año 2018?"
   ]
  },
  {
   "cell_type": "code",
   "execution_count": 89,
   "metadata": {},
   "outputs": [
    {
     "data": {
      "image/png": "[encoded data removed]",
      "text/plain": [
       "<Figure size 432x288 with 1 Axes>"
      ]
     },
     "metadata": {
      "needs_background": "light"
     },
     "output_type": "display_data"
    },
    {
     "name": "stdout",
     "output_type": "stream",
     "text": [
      "u_1 = Harvard University\n",
      "u_2 = Stanford University\n",
      "u_3 = Massachusetts Institute of Technology\n",
      "u_4 = University of Cambridge\n",
      "u_5 = University of Oxford\n",
      "u_6 = University of California, Berkeley\n",
      "u_7 = Princeton University\n",
      "u_8 = Columbia University\n",
      "u_9 = California Institute of Technology\n",
      "u_10 = University of Chicago\n"
     ]
    }
   ],
   "source": [
    "dataframe_resultado = dataframe_universidades_2018\n",
    "dataframe_resultado = dataframe_resultado.head(10)\n",
    "\n",
    "titulos = dataframe_resultado['Institution'].map(lambda x: x)\n",
    "titulos_grafico = np.array(['u_1','u_2','u_3','u_4','u_5','u_6','u_7','u_8','u_9','u_10'])\n",
    "puntaje = dataframe_resultado['Score'].map(lambda x: x)\n",
    "\n",
    "fig, ax = plt.subplots()\n",
    "ax.bar(titulos_grafico, puntaje)\n",
    "ax.set_ylabel('Puntaje')\n",
    "ax.set_xlabel('Universidad')\n",
    "ax.grid(True)\n",
    "\n",
    "plt.show()\n",
    "\n",
    "for i in range(len(titulos)):\n",
    "    print('u_' + str((i + 1)) + ' = ' + titulos[i])"
   ]
  },
  {
   "cell_type": "markdown",
   "metadata": {},
   "source": [
    "### 12.- ¿Cuales fueron las 10 universidades con menor puntaje de todo el mundo en el año 2018?"
   ]
  },
  {
   "cell_type": "code",
   "execution_count": 88,
   "metadata": {},
   "outputs": [
    {
     "data": {
      "image/png": "[encoded data removed]",
      "text/plain": [
       "<Figure size 432x288 with 1 Axes>"
      ]
     },
     "metadata": {
      "needs_background": "light"
     },
     "output_type": "display_data"
    },
    {
     "name": "stdout",
     "output_type": "stream",
     "text": [
      "u_1 = Capital Normal University\n",
      "u_2 = Xiangtan University\n",
      "u_3 = Manchester Metropolitan University\n",
      "u_4 = University of A Coruña\n",
      "u_5 = Khon Kaen University\n",
      "u_6 = University of Ibadan\n",
      "u_7 = Shahid Beheshti University\n",
      "u_8 = Soonchunhyang University\n",
      "u_9 = Loma Linda University\n",
      "u_10 = University of Macau\n"
     ]
    }
   ],
   "source": [
    "dataframe_resultado = dataframe_universidades_2018.sort_values('Score',ascending=True)\n",
    "dataframe_resultado = dataframe_resultado.head(10)\n",
    "\n",
    "titulos = dataframe_resultado['Institution'].map(lambda x: x)\n",
    "titulos_grafico = np.array(['u_1','u_2','u_3','u_4','u_5','u_6','u_7','u_8','u_9','u_10'])\n",
    "puntaje = dataframe_resultado['Score'].map(lambda x: x)\n",
    "\n",
    "fig, ax = plt.subplots()\n",
    "ax.bar(titulos_grafico, puntaje)\n",
    "ax.set_ylabel('Puntaje')\n",
    "ax.set_xlabel('Universidad')\n",
    "ax.grid(True)\n",
    "\n",
    "plt.show()\n",
    "\n",
    "i = 1\n",
    "for titulo in titulos:\n",
    "    print('u_' + str(i) + ' = ' + titulo)\n",
    "    i = i + 1"
   ]
  },
  {
   "cell_type": "markdown",
   "metadata": {},
   "source": [
    "### 13.- ¿Cuales fueron los 10 paises con las mejores universidades de todo el mundo en el año 2018?"
   ]
  },
  {
   "cell_type": "code",
   "execution_count": 87,
   "metadata": {},
   "outputs": [
    {
     "data": {
      "image/png": "[encoded data removed]",
      "text/plain": [
       "<Figure size 432x288 with 1 Axes>"
      ]
     },
     "metadata": {
      "needs_background": "light"
     },
     "output_type": "display_data"
    },
    {
     "name": "stdout",
     "output_type": "stream",
     "text": [
      "p_1 = USA\n",
      "p_2 = United Kingdom\n",
      "p_3 = Japan\n",
      "p_4 = Canada\n",
      "p_5 = Switzerland\n",
      "p_6 = France\n",
      "p_7 = Denmark\n",
      "p_8 = Israel\n",
      "p_9 = Germany\n",
      "p_10 = Sweden\n"
     ]
    }
   ],
   "source": [
    "dataframe_resultado = dataframe_universidades_2018.sort_values('Score',ascending=False)\n",
    "dataframe_resultado = dataframe_resultado.drop_duplicates(['Location'], keep='first')\n",
    "dataframe_resultado = dataframe_resultado.head(10)\n",
    "\n",
    "titulos = dataframe_resultado['Location'].map(lambda x: x)\n",
    "titulos_grafico = np.array(['p_1','p_2','p_3','p_4','p_5','p_6','p_7','p_8','p_9','p_10'])\n",
    "puntaje = dataframe_resultado['Score'].map(lambda x: x)\n",
    "\n",
    "fig, ax = plt.subplots()\n",
    "ax.bar(titulos_grafico, puntaje)\n",
    "ax.set_ylabel('Puntaje')\n",
    "ax.set_xlabel('Pais')\n",
    "ax.grid(True)\n",
    "\n",
    "plt.show()\n",
    "\n",
    "i = 1\n",
    "for titulo in titulos:\n",
    "    print('p_' + str(i) + ' = ' + titulo)\n",
    "    i = i + 1"
   ]
  },
  {
   "cell_type": "markdown",
   "metadata": {},
   "source": [
    "### 14.- ¿Cuales fueron los 10 paises de menor puntaje en todo el mundo en el año 2018?"
   ]
  },
  {
   "cell_type": "code",
   "execution_count": 86,
   "metadata": {},
   "outputs": [
    {
     "data": {
      "image/png": "[encoded data removed]",
      "text/plain": [
       "<Figure size 432x288 with 1 Axes>"
      ]
     },
     "metadata": {
      "needs_background": "light"
     },
     "output_type": "display_data"
    },
    {
     "name": "stdout",
     "output_type": "stream",
     "text": [
      "p_1 = Nigeria\n",
      "p_2 = Macau\n",
      "p_3 = Cyprus\n",
      "p_4 = Tunisia\n",
      "p_5 = Bulgaria\n",
      "p_6 = Pakistan\n",
      "p_7 = Romania\n",
      "p_8 = Lebanon\n",
      "p_9 = Uganda\n",
      "p_10 = Colombia\n"
     ]
    }
   ],
   "source": [
    "dataframe_resultado = dataframe_universidades_2018.sort_values('Score',ascending=True)\n",
    "dataframe_resultado = dataframe_resultado.drop_duplicates(['Location'], keep='last')\n",
    "dataframe_resultado = dataframe_resultado.head(10)\n",
    "\n",
    "titulos = dataframe_resultado['Location'].map(lambda x: x)\n",
    "titulos_grafico = np.array(['p_1','p_2','p_3','p_4','p_5','p_6','p_7','p_8','p_9','p_10'])\n",
    "puntaje = dataframe_resultado['Score'].map(lambda x: x)\n",
    "\n",
    "fig, ax = plt.subplots()\n",
    "ax.bar(titulos_grafico, puntaje)\n",
    "ax.set_ylabel('Puntaje')\n",
    "ax.set_xlabel('Pais')\n",
    "ax.grid(True)\n",
    "\n",
    "plt.show()\n",
    "\n",
    "i = 1\n",
    "for titulo in titulos:\n",
    "    print('p_' + str(i) + ' = ' + titulo)\n",
    "    i = i + 1"
   ]
  },
  {
   "cell_type": "markdown",
   "metadata": {},
   "source": [
    "### 15.- ¿Cuales fueron las 10 universidades con mayor calidad de educacion de todo el mundo en el año 2018?"
   ]
  },
  {
   "cell_type": "code",
   "execution_count": 85,
   "metadata": {},
   "outputs": [
    {
     "data": {
      "image/png": "[encoded data removed]",
      "text/plain": [
       "<Figure size 432x288 with 1 Axes>"
      ]
     },
     "metadata": {
      "needs_background": "light"
     },
     "output_type": "display_data"
    },
    {
     "name": "stdout",
     "output_type": "stream",
     "text": [
      "u_1 = University of Zaragoza\n",
      "u_2 = University of Rostock\n",
      "u_3 = TU Wien\n",
      "u_4 = Rouen Normandy University\n",
      "u_5 = University of Coimbra\n",
      "u_6 = Chalmers University of Technology\n",
      "u_7 = RWTH Aachen University\n",
      "u_8 = Martin Luther University of Halle-Wittenberg\n",
      "u_9 = Karlsruhe Institute of Technology\n",
      "u_10 = University of Bordeaux\n"
     ]
    }
   ],
   "source": [
    "dataframe_resultado = dataframe_universidades_2018.sort_values('Quality_of_Education',ascending=False)\n",
    "dataframe_resultado = dataframe_resultado.drop_duplicates(['Quality_of_Education'], keep='first')\n",
    "dataframe_resultado = dataframe_resultado.head(10)\n",
    "\n",
    "titulos = dataframe_resultado['Institution'].map(lambda x: x)\n",
    "titulos_grafico = np.array(['u_1','u_2','u_3','u_4','u_5','u_6','u_7','u_8','u_9','u_10'])\n",
    "puntaje = dataframe_resultado['Quality_of_Education'].map(lambda x: x)\n",
    "\n",
    "fig, ax = plt.subplots()\n",
    "ax.bar(titulos_grafico, puntaje)\n",
    "ax.set_ylabel('Puntaje Calidad de Educacion')\n",
    "ax.set_xlabel('Universidad')\n",
    "ax.grid(True)\n",
    "\n",
    "plt.show()\n",
    "\n",
    "i = 1\n",
    "for titulo in titulos:\n",
    "    print('u_' + str(i) + ' = ' + titulo)\n",
    "    i = i + 1"
   ]
  },
  {
   "cell_type": "markdown",
   "metadata": {},
   "source": [
    "### 16.- ¿Cuales fueron las 10 universidades con menor calidad de educacion de todo el mundo en el año 2018?"
   ]
  },
  {
   "cell_type": "code",
   "execution_count": 84,
   "metadata": {},
   "outputs": [
    {
     "data": {
      "image/png": "[encoded data removed]",
      "text/plain": [
       "<Figure size 432x288 with 1 Axes>"
      ]
     },
     "metadata": {
      "needs_background": "light"
     },
     "output_type": "display_data"
    },
    {
     "name": "stdout",
     "output_type": "stream",
     "text": [
      "u_1 = Capital Normal University\n",
      "u_2 = California Institute of Technology\n",
      "u_3 = Harvard University\n",
      "u_4 = Massachusetts Institute of Technology\n",
      "u_5 = Princeton University\n",
      "u_6 = University of Cambridge\n",
      "u_7 = École normale supérieure\n",
      "u_8 = University of California, Berkeley\n",
      "u_9 = Weizmann Institute of Science\n",
      "u_10 = University of Oxford\n"
     ]
    }
   ],
   "source": [
    "dataframe_resultado = dataframe_universidades_2018.sort_values('Quality_of_Education',ascending=True)\n",
    "dataframe_resultado = dataframe_resultado.drop_duplicates(['Quality_of_Education'], keep='first')\n",
    "dataframe_resultado = dataframe_resultado.head(10)\n",
    "\n",
    "titulos = dataframe_resultado['Institution'].map(lambda x: x)\n",
    "titulos_grafico = np.array(['u_1','u_2','u_3','u_4','u_5','u_6','u_7','u_8','u_9','u_10'])\n",
    "puntaje = dataframe_resultado['Quality_of_Education'].map(lambda x: x)\n",
    "\n",
    "fig, ax = plt.subplots()\n",
    "ax.bar(titulos_grafico, puntaje)\n",
    "ax.set_ylabel('Puntaje Calidad de Educacion')\n",
    "ax.set_xlabel('Universidad')\n",
    "ax.grid(True)\n",
    "\n",
    "plt.show()\n",
    "\n",
    "i = 1\n",
    "for titulo in titulos:\n",
    "    print('u_' + str(i) + ' = ' + titulo)\n",
    "    i = i + 1"
   ]
  },
  {
   "cell_type": "markdown",
   "metadata": {},
   "source": [
    "### 17.- ¿Cuales fueron las 10 universidades con mayor cantidad de publicaciones de calidad en el año 2018?"
   ]
  },
  {
   "cell_type": "code",
   "execution_count": 83,
   "metadata": {},
   "outputs": [
    {
     "data": {
      "image/png": "[encoded data removed]",
      "text/plain": [
       "<Figure size 432x288 with 1 Axes>"
      ]
     },
     "metadata": {
      "needs_background": "light"
     },
     "output_type": "display_data"
    },
    {
     "name": "stdout",
     "output_type": "stream",
     "text": [
      "u_1 = Nara Institute of Science and Technology\n",
      "u_2 = Sciences Po\n",
      "u_3 = Jawaharlal Nehru University\n",
      "u_4 = University of California, Merced\n",
      "u_5 = Jacobs University Bremen\n",
      "u_6 = Howard University\n",
      "u_7 = University of Pécs\n",
      "u_8 = Stockholm School of Economics\n",
      "u_9 = ESPCI Paris\n",
      "u_10 = École normale supérieure Paris-Saclay\n"
     ]
    }
   ],
   "source": [
    "dataframe_resultado = dataframe_universidades_2018.sort_values('Research_Output',ascending=False)\n",
    "dataframe_resultado = dataframe_resultado.head(10)\n",
    "\n",
    "titulos = dataframe_resultado['Institution'].map(lambda x: x)\n",
    "titulos_grafico = np.array(['u_1','u_2','u_3','u_4','u_5','u_6','u_7','u_8','u_9','u_10'])\n",
    "puntaje = dataframe_resultado['Research_Output'].map(lambda x: x)\n",
    "\n",
    "fig, ax = plt.subplots()\n",
    "ax.bar(titulos_grafico, puntaje)\n",
    "ax.set_ylabel('Publicaciones de calidad')\n",
    "ax.set_xlabel('Universidad')\n",
    "ax.grid(True)\n",
    "\n",
    "plt.show()\n",
    "\n",
    "i = 1\n",
    "for titulo in titulos:\n",
    "    print('u_' + str(i) + ' = ' + titulo)\n",
    "    i = i + 1"
   ]
  },
  {
   "cell_type": "markdown",
   "metadata": {},
   "source": [
    "### 18.- ¿Cuales fueron las 10 universidades con menor cantidad de publicaciones de calidad en el año 2018?"
   ]
  },
  {
   "cell_type": "code",
   "execution_count": 82,
   "metadata": {},
   "outputs": [
    {
     "data": {
      "image/png": "[encoded data removed]",
      "text/plain": [
       "<Figure size 432x288 with 1 Axes>"
      ]
     },
     "metadata": {
      "needs_background": "light"
     },
     "output_type": "display_data"
    },
    {
     "name": "stdout",
     "output_type": "stream",
     "text": [
      "u_1 = Harvard University\n",
      "u_2 = University of Toronto\n",
      "u_3 = University of Michigan, Ann Arbor\n",
      "u_4 = University of São Paulo\n",
      "u_5 = University College London\n",
      "u_6 = Sorbonne University\n",
      "u_7 = University of Tokyo\n",
      "u_8 = Johns Hopkins University\n",
      "u_9 = University of Oxford\n",
      "u_10 = Stanford University\n"
     ]
    }
   ],
   "source": [
    "dataframe_resultado = dataframe_universidades_2018.sort_values('Research_Output',ascending=True)\n",
    "dataframe_resultado = dataframe_resultado.head(10)\n",
    "\n",
    "titulos = dataframe_resultado['Institution'].map(lambda x: x)\n",
    "titulos_grafico = np.array(['u_1','u_2','u_3','u_4','u_5','u_6','u_7','u_8','u_9','u_10'])\n",
    "puntaje = dataframe_resultado['Research_Output'].map(lambda x: x)\n",
    "\n",
    "fig, ax = plt.subplots()\n",
    "ax.bar(titulos_grafico, puntaje)\n",
    "ax.set_ylabel('Publicaciones de calidad')\n",
    "ax.set_xlabel('Universidad')\n",
    "ax.grid(True)\n",
    "\n",
    "plt.show()\n",
    "\n",
    "i = 1\n",
    "for titulo in titulos:\n",
    "    print('u_' + str(i) + ' = ' + titulo)\n",
    "    i = i + 1"
   ]
  },
  {
   "cell_type": "markdown",
   "metadata": {},
   "source": [
    "### 19.- ¿Cuales fueron las 10 universidades con mayor calidad de la facultad en el año 2018?"
   ]
  },
  {
   "cell_type": "code",
   "execution_count": 81,
   "metadata": {},
   "outputs": [
    {
     "data": {
      "image/png": "[encoded data removed]",
      "text/plain": [
       "<Figure size 432x288 with 1 Axes>"
      ]
     },
     "metadata": {
      "needs_background": "light"
     },
     "output_type": "display_data"
    },
    {
     "name": "stdout",
     "output_type": "stream",
     "text": [
      "u_1 = University of Marburg\n",
      "u_2 = Complutense University of Madrid\n",
      "u_3 = University of Pavia\n",
      "u_4 = University of Jena\n",
      "u_5 = University of Amsterdam\n",
      "u_6 = University of Greifswald\n",
      "u_7 = University of Calcutta\n",
      "u_8 = Leipzig University\n",
      "u_9 = University of Liverpool\n",
      "u_10 = University of Szeged\n"
     ]
    }
   ],
   "source": [
    "dataframe_resultado = dataframe_universidades_2018.sort_values('Quality_of_Faculty',ascending=False)\n",
    "dataframe_resultado = dataframe_resultado.head(10)\n",
    "\n",
    "titulos = dataframe_resultado['Institution'].map(lambda x: x)\n",
    "titulos_grafico = np.array(['u_1','u_2','u_3','u_4','u_5','u_6','u_7','u_8','u_9','u_10'])\n",
    "puntaje = dataframe_resultado['Quality_of_Faculty'].map(lambda x: x)\n",
    "\n",
    "fig, ax = plt.subplots()\n",
    "ax.bar(titulos_grafico, puntaje)\n",
    "ax.set_ylabel('Calidad de la facultad')\n",
    "ax.set_xlabel('Universidad')\n",
    "ax.grid(True)\n",
    "\n",
    "plt.show()\n",
    "\n",
    "i = 1\n",
    "for titulo in titulos:\n",
    "    print('u_' + str(i) + ' = ' + titulo)\n",
    "    i = i + 1"
   ]
  },
  {
   "cell_type": "markdown",
   "metadata": {},
   "source": [
    "### 20.- ¿Cuales fueron las 10 universidades con menor calidad de la facultad en el año 2018?"
   ]
  },
  {
   "cell_type": "code",
   "execution_count": 80,
   "metadata": {},
   "outputs": [
    {
     "data": {
      "image/png": "[encoded data removed]",
      "text/plain": [
       "<Figure size 432x288 with 1 Axes>"
      ]
     },
     "metadata": {
      "needs_background": "light"
     },
     "output_type": "display_data"
    },
    {
     "name": "stdout",
     "output_type": "stream",
     "text": [
      "u_1 = Lehigh University\n",
      "u_2 = Harvard University\n",
      "u_3 = Stanford University\n",
      "u_4 = Massachusetts Institute of Technology\n",
      "u_5 = Princeton University\n",
      "u_6 = University of California, Berkeley\n",
      "u_7 = University of Cambridge\n",
      "u_8 = California Institute of Technology\n",
      "u_9 = Columbia University\n",
      "u_10 = University of Chicago\n"
     ]
    }
   ],
   "source": [
    "dataframe_resultado = dataframe_universidades_2018.sort_values('Quality_of_Faculty',ascending=True)\n",
    "dataframe_resultado = dataframe_resultado.drop_duplicates(['Quality_of_Faculty'], keep='first')\n",
    "dataframe_resultado = dataframe_resultado.head(10)\n",
    "\n",
    "titulos = dataframe_resultado['Institution'].map(lambda x: x)\n",
    "titulos_grafico = np.array(['u_1','u_2','u_3','u_4','u_5','u_6','u_7','u_8','u_9','u_10'])\n",
    "puntaje = dataframe_resultado['Quality_of_Faculty'].map(lambda x: x)\n",
    "\n",
    "fig, ax = plt.subplots()\n",
    "ax.bar(titulos_grafico, puntaje)\n",
    "ax.set_ylabel('Calidad de la facultad')\n",
    "ax.set_xlabel('Universidad')\n",
    "ax.grid(True)\n",
    "\n",
    "plt.show()\n",
    "\n",
    "i = 1\n",
    "for titulo in titulos:\n",
    "    print('u_' + str(i) + ' = ' + titulo)\n",
    "    i = i + 1"
   ]
  }
 ],
 "metadata": {
  "kernelspec": {
   "display_name": "Python 3",
   "language": "python",
   "name": "python3"
  },
  "language_info": {
   "codemirror_mode": {
    "name": "ipython",
    "version": 3
   },
   "file_extension": ".py",
   "mimetype": "text/x-python",
   "name": "python",
   "nbconvert_exporter": "python",
   "pygments_lexer": "ipython3",
   "version": "3.7.6"
  }
 },
 "nbformat": 4,
 "nbformat_minor": 4
}
