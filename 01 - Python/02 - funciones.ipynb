{
 "cells": [
  {
   "cell_type": "code",
   "execution_count": 2,
   "metadata": {},
   "outputs": [
    {
     "name": "stdout",
     "output_type": "stream",
     "text": [
      "Hola Mundo\n"
     ]
    },
    {
     "data": {
      "text/plain": [
       "NoneType"
      ]
     },
     "execution_count": 2,
     "metadata": {},
     "output_type": "execute_result"
    }
   ],
   "source": [
    "# Funciones\n",
    "def hola_mundo():\n",
    "    print(\"Hola Mundo\")\n",
    "    \n",
    "type(hola_mundo())"
   ]
  },
  {
   "cell_type": "code",
   "execution_count": 5,
   "metadata": {},
   "outputs": [
    {
     "name": "stdout",
     "output_type": "stream",
     "text": [
      "11\n",
      "La suma de 5 y 6 es 11\n"
     ]
    }
   ],
   "source": [
    "def sumar_dos_numero(num_uno, num_dos): #parametros requeridos\n",
    "    return num_uno + num_dos\n",
    "##print(sumar_dos_numero(5, 6))\n",
    "total_suma = sumar_dos_numero(5, 6)\n",
    "print(f\"La suma de 5 y 6 es {total_suma}\")"
   ]
  },
  {
   "cell_type": "code",
   "execution_count": 6,
   "metadata": {},
   "outputs": [
    {
     "name": "stdout",
     "output_type": "stream",
     "text": [
      "universidad: EPN\n",
      "universidad: ESPE\n"
     ]
    }
   ],
   "source": [
    "def imprimir_universidad(nombre = \"EPN\"): #Parametros opcionales\n",
    "    print(f\"universidad: {nombre}\")       #Parametros por defecto   \n",
    "    \n",
    "imprimir_universidad()\n",
    "imprimir_universidad(\"ESPE\")"
   ]
  },
  {
   "cell_type": "code",
   "execution_count": 8,
   "metadata": {},
   "outputs": [
    {
     "name": "stdout",
     "output_type": "stream",
     "text": [
      "Color Azul\n",
      "Nombre Camaro\n",
      "Anio 1999\n"
     ]
    }
   ],
   "source": [
    "#REGLA: primero parametros requeridos luego parametros opcionales\n",
    "def imprimir_carro(color, nombre, anio = 1999): #Parametros opcionales\n",
    "    print(f\"Color: {color}\")\n",
    "    print(f\"Nombre: {nombre}\")\n",
    "    print(f\"Anio: {anio}\")\n",
    "    \n",
    "imprimir_carro(\"Azul\", \"Camaro\")"
   ]
  },
  {
   "cell_type": "code",
   "execution_count": 9,
   "metadata": {},
   "outputs": [
    {
     "name": "stdout",
     "output_type": "stream",
     "text": [
      "Color Verde\n",
      "Nombre Lamborgini\n",
      "Anio 1985\n"
     ]
    }
   ],
   "source": [
    "#PARAMETROS NOMBRADOS: se le puede asignar el valor a los parametros en cualquier orden declarandolos al llamar la funcion\n",
    "imprimir_carro(anio = 1985, nombre = \"Lamborgini\", color = \"Verde\")"
   ]
  },
  {
   "cell_type": "code",
   "execution_count": 10,
   "metadata": {},
   "outputs": [
    {
     "name": "stdout",
     "output_type": "stream",
     "text": [
      "Color Verde\n",
      "Nombre Chevrolet\n",
      "Anio 1966\n"
     ]
    }
   ],
   "source": [
    "#Regla: una vez se empieza con parametros nombrados ya no se puede usar parametros por posicion despues\n",
    "imprimir_carro(\"Verde\", anio = 1966, nombre = \"Chevrolet\")"
   ]
  },
  {
   "cell_type": "code",
   "execution_count": 16,
   "metadata": {},
   "outputs": [
    {
     "data": {
      "text/plain": [
       "36"
      ]
     },
     "execution_count": 16,
     "metadata": {},
     "output_type": "execute_result"
    }
   ],
   "source": [
    "def sumar_numero(primer_numero, *numeros): #Parametros infinitos con *, simpre se declaran al final de la funcion\n",
    "    suma = primer_numero\n",
    "    for numero in numeros:\n",
    "        suma = suma + numero\n",
    "    return suma\n",
    "    \n",
    "sumar_numero(1,2,3,4,5,6,7,8)"
   ]
  },
  {
   "cell_type": "code",
   "execution_count": 18,
   "metadata": {},
   "outputs": [
    {
     "name": "stdout",
     "output_type": "stream",
     "text": [
      "{'saludo': 'hola', 'mensaje': 'mundo'}\n",
      "<class 'dict'>\n"
     ]
    }
   ],
   "source": [
    "def establecer_configuracion(**kwargs): #Key Word Arguments: solo reciben parametros nombrados\n",
    "    print(kwargs)\n",
    "    print(type(kwargs))\n",
    "\n",
    "establecer_configuracion(saludo = \"hola\", mensaje = \"mundo\")"
   ]
  },
  {
   "cell_type": "code",
   "execution_count": null,
   "metadata": {},
   "outputs": [],
   "source": [
    "#Reglas (orden de los argumentos)\n",
    "def ejemplo(requerido_uno,\n",
    "           requerido_dos,\n",
    "           opcional_uno = \"uno\",\n",
    "           opcional_dos = \"dos\",\n",
    "           *infinitos,\n",
    "           **kwargs):\n",
    "    \n",
    "    print(requerido_uno, requerido_dos, opcional_uno, opcional_dos)"
   ]
  }
 ],
 "metadata": {
  "kernelspec": {
   "display_name": "Python 3",
   "language": "python",
   "name": "python3"
  },
  "language_info": {
   "codemirror_mode": {
    "name": "ipython",
    "version": 3
   },
   "file_extension": ".py",
   "mimetype": "text/x-python",
   "name": "python",
   "nbconvert_exporter": "python",
   "pygments_lexer": "ipython3",
   "version": "3.7.6"
  }
 },
 "nbformat": 4,
 "nbformat_minor": 4
}
