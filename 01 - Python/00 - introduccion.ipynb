{
 "cells": [
  {
   "cell_type": "markdown",
   "metadata": {},
   "source": [
    "# Titulo 1\n",
    "## Titulo 2\n",
    "\n",
    "![alt text](https://github.com/adam-p/markdown-here/raw/master/src/common/images/icon48.png \"Logo Title Text 1\")"
   ]
  },
  {
   "cell_type": "code",
   "execution_count": 2,
   "metadata": {},
   "outputs": [
    {
     "name": "stdout",
     "output_type": "stream",
     "text": [
      "Hola Mundo\n"
     ]
    }
   ],
   "source": [
    "print(\"Hola Mundo\")"
   ]
  },
  {
   "cell_type": "code",
   "execution_count": 3,
   "metadata": {},
   "outputs": [
    {
     "name": "stdout",
     "output_type": "stream",
     "text": [
      "Hola Mundo\n"
     ]
    }
   ],
   "source": [
    "print(\"Hola Mundo\")"
   ]
  },
  {
   "cell_type": "code",
   "execution_count": 4,
   "metadata": {},
   "outputs": [
    {
     "name": "stdout",
     "output_type": "stream",
     "text": [
      "Hola Mundo\n"
     ]
    }
   ],
   "source": [
    "print(\"Hola Mundo\")"
   ]
  },
  {
   "cell_type": "code",
   "execution_count": 10,
   "metadata": {},
   "outputs": [
    {
     "name": "stdout",
     "output_type": "stream",
     "text": [
      "<class 'int'>\n",
      "<class 'float'>\n",
      "<class 'str'>\n",
      "<class 'str'>\n",
      "<class 'str'>\n",
      "<class 'bool'>\n",
      "<class 'bool'>\n",
      "<class 'NoneType'>\n"
     ]
    }
   ],
   "source": [
    "## No tipado! (no declarar nunca el tipo de variable)\n",
    "#Variables primitivas\n",
    "entero = 4\n",
    "decimales = 1.1\n",
    "nombre = \"Rafael\"\n",
    "segundo_nombre = \"Eduardo\" #No se usa camelCase\n",
    "apellido = 'Vinueza'\n",
    "casado = False\n",
    "estudiante = True\n",
    "hijos = None #Null\n",
    "print(type(entero)) #int\n",
    "print(type(decimales)) #float\n",
    "print(type(nombre)) #string\n",
    "print(type(segundo_nombre)) #string\n",
    "print(type(apellido)) #string\n",
    "print(type(casado)) #boolean\n",
    "print(type(estudiante)) #boolean\n",
    "print(type(hijos)) #none_type"
   ]
  },
  {
   "cell_type": "code",
   "execution_count": 6,
   "metadata": {},
   "outputs": [
    {
     "name": "stdout",
     "output_type": "stream",
     "text": [
      "\n",
      "First ordered list item\n",
      "Another item\n",
      "Unordered sub-list.\n",
      "Actual numbers don't matter, just that it's a number\n",
      "\n",
      "Ordered sub-list\n",
      "\n",
      "And another item.\n",
      "\n",
      "You can have properly indented paragraphs within list items. Notice the blank line above, and the leading spaces (at least one, but we'll use three here to also align the raw Markdown).\n",
      "\n",
      "To have a line break without a paragraph, you will need to use two trailing spaces.\n",
      "Note that this line is separate, but within the same paragraph.\n",
      "(This is contrary to the typical GFM line break behaviour, where trailing spaces are not required.)\n",
      "\n",
      "Unordered list can use asterisks\n",
      "Or minuses\n",
      "Or pluses\n",
      "\n",
      "\n"
     ]
    }
   ],
   "source": [
    "cadena_de_texto = \"\"\"\n",
    "First ordered list item\n",
    "Another item\n",
    "Unordered sub-list.\n",
    "Actual numbers don't matter, just that it's a number\n",
    "\n",
    "Ordered sub-list\n",
    "\n",
    "And another item.\n",
    "\n",
    "You can have properly indented paragraphs within list items. Notice the blank line above, and the leading spaces (at least one, but we'll use three here to also align the raw Markdown).\n",
    "\n",
    "To have a line break without a paragraph, you will need to use two trailing spaces.\n",
    "Note that this line is separate, but within the same paragraph.\n",
    "(This is contrary to the typical GFM line break behaviour, where trailing spaces are not required.)\n",
    "\n",
    "Unordered list can use asterisks\n",
    "Or minuses\n",
    "Or pluses\n",
    "\n",
    "\"\"\"\n",
    "print(cadena_de_texto)"
   ]
  },
  {
   "cell_type": "code",
   "execution_count": 11,
   "metadata": {},
   "outputs": [
    {
     "name": "stdout",
     "output_type": "stream",
     "text": [
      "4\n",
      "Rafael\n"
     ]
    }
   ],
   "source": [
    "print(entero)\n",
    "entero = nombre\n",
    "print(entero)"
   ]
  },
  {
   "cell_type": "code",
   "execution_count": 7,
   "metadata": {},
   "outputs": [
    {
     "name": "stdout",
     "output_type": "stream",
     "text": [
      "Truty\n",
      "Falsy\n",
      "Falsy\n",
      "Truty\n",
      "Falsy\n",
      "Truty\n",
      "Truty\n",
      "Truty\n",
      "Truty\n",
      "Falsy\n",
      "Truty\n",
      "Falsy\n",
      "Truty\n",
      "Falsy\n"
     ]
    }
   ],
   "source": [
    "#Truty - Falsy\n",
    "\n",
    "tuplas = (1,2,3) #Arreglos que no se pueden modificar\n",
    "listas = [4,5,6] #Arreglos que si se pueden modificar\n",
    "diccionario = {\n",
    "    \"nombre\":\"Rafael\"\n",
    "}\n",
    "\n",
    "#String\n",
    "if('Rafael'): #Truty\n",
    "    print('Truty')\n",
    "else:\n",
    "    print('Falsy')\n",
    "    \n",
    "if(''): #Falsy\n",
    "    print('Truty')\n",
    "else:\n",
    "    print('Falsy')\n",
    "    \n",
    "#Nulo\n",
    "nulo = None\n",
    "if(nulo): #Falsy\n",
    "    print('Truty')\n",
    "else:\n",
    "    print('Falsy')\n",
    "    \n",
    "#Enteros\n",
    "if(1): #Truty\n",
    "    print('Truty')\n",
    "else:\n",
    "    print('Falsy')\n",
    "    \n",
    "if(0): #Falsy\n",
    "    print('Truty')\n",
    "else:\n",
    "    print('Falsy')\n",
    "    \n",
    "if(-1): #Truty\n",
    "    print('Truty')\n",
    "else:\n",
    "    print('Falsy')\n",
    "\n",
    "#Decimales\n",
    "if(1.2): #Truty\n",
    "    print('Truty')\n",
    "else:\n",
    "    print('Falsy')\n",
    "    \n",
    "if(-1.5): #Truty\n",
    "    print('Truty')\n",
    "else:\n",
    "    print('Falsy')\n",
    "\n",
    "#Tuplas\n",
    "if((1,2,3)): #Truty\n",
    "    print('Truty')\n",
    "else:\n",
    "    print('Falsy')\n",
    "    \n",
    "if(()): #Falsy\n",
    "    print('Truty')\n",
    "else:\n",
    "    print('Falsy')\n",
    "    \n",
    "#Arreglos\n",
    "if([1,2,3]): #Truty\n",
    "    print('Truty')\n",
    "else:\n",
    "    print('Falsy')\n",
    "    \n",
    "if([]): #Falsy\n",
    "    print('Truty')\n",
    "else:\n",
    "    print('Falsy')\n",
    "    \n",
    "#Diccionarios\n",
    "nombre = \"Rafael\"\n",
    "if({nombre:\"Rafael\"}): #Truty\n",
    "    print('Truty')\n",
    "else:\n",
    "    print('Falsy')\n",
    "    \n",
    "if({}): #Falsy\n",
    "    print('Truty')\n",
    "else:\n",
    "    print('Falsy')"
   ]
  },
  {
   "cell_type": "code",
   "execution_count": 8,
   "metadata": {},
   "outputs": [],
   "source": [
    "#Funciones con arreglos\n",
    "arreglo = [1, 2, 3, 4, 5, 6, 7, 8, 9, 10]"
   ]
  },
  {
   "cell_type": "code",
   "execution_count": 24,
   "metadata": {},
   "outputs": [
    {
     "data": {
      "text/plain": [
       "(6, 7, 8, 9)"
      ]
     },
     "execution_count": 24,
     "metadata": {},
     "output_type": "execute_result"
    }
   ],
   "source": [
    "arreglo[0:3] #[0:3[\n",
    "arreglo[0:] #hasta el final\n",
    "arreglo[:7] #desde el inicio\n",
    "arreglo[-1] #indice negativo empieza desde el final\n",
    "arreglo[3:-2]\n",
    "arreglo[-8:8]\n",
    "arreglo[-4:-1]\n",
    "arreglo[-7:] \n",
    "arreglo[:-3]\n",
    "arreglo[:] #todo el arreglo\n",
    "\n",
    "#Tuplas\n",
    "arregloTupla = (1,2,3,4,5,6,7,8,9,10)\n",
    "arregloTupla[5:9]"
   ]
  },
  {
   "cell_type": "code",
   "execution_count": 30,
   "metadata": {},
   "outputs": [
    {
     "data": {
      "text/plain": [
       "'Rafael'"
      ]
     },
     "execution_count": 30,
     "metadata": {},
     "output_type": "execute_result"
    }
   ],
   "source": [
    "#Diccionarios\n",
    "diccionario = {\n",
    "    \"nombre\":\"Rafael\",\n",
    "    \"apellido\":\"Vinueza\",\n",
    "    \"sueldo\":1.2\n",
    "}\n",
    "diccionario[\"nombre\"]"
   ]
  },
  {
   "cell_type": "code",
   "execution_count": 32,
   "metadata": {},
   "outputs": [
    {
     "data": {
      "text/plain": [
       "True"
      ]
     },
     "execution_count": 32,
     "metadata": {},
     "output_type": "execute_result"
    }
   ],
   "source": [
    "10 in arreglo"
   ]
  },
  {
   "cell_type": "code",
   "execution_count": 33,
   "metadata": {},
   "outputs": [
    {
     "name": "stdout",
     "output_type": "stream",
     "text": [
      "<class 'bool'>\n"
     ]
    }
   ],
   "source": [
    "print(type(10 in arreglo))"
   ]
  },
  {
   "cell_type": "code",
   "execution_count": 37,
   "metadata": {},
   "outputs": [
    {
     "data": {
      "text/plain": [
       "3"
      ]
     },
     "execution_count": 37,
     "metadata": {},
     "output_type": "execute_result"
    }
   ],
   "source": [
    "len(arreglo)\n",
    "len(arregloTupla)\n",
    "len(diccionario)"
   ]
  },
  {
   "cell_type": "code",
   "execution_count": 35,
   "metadata": {},
   "outputs": [
    {
     "data": {
      "text/plain": [
       "10"
      ]
     },
     "execution_count": 35,
     "metadata": {},
     "output_type": "execute_result"
    }
   ],
   "source": []
  },
  {
   "cell_type": "code",
   "execution_count": null,
   "metadata": {},
   "outputs": [],
   "source": []
  }
 ],
 "metadata": {
  "kernelspec": {
   "display_name": "Python 3",
   "language": "python",
   "name": "python3"
  },
  "language_info": {
   "codemirror_mode": {
    "name": "ipython",
    "version": 3
   },
   "file_extension": ".py",
   "mimetype": "text/x-python",
   "name": "python",
   "nbconvert_exporter": "python",
   "pygments_lexer": "ipython3",
   "version": "3.7.6"
  }
 },
 "nbformat": 4,
 "nbformat_minor": 4
}
