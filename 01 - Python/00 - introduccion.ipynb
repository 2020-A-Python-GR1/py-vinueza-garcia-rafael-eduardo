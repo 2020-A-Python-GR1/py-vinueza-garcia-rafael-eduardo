{
 "cells": [
  {
   "cell_type": "markdown",
   "metadata": {},
   "source": [
    "# Titulo 1\n",
    "## Titulo 2\n",
    "\n",
    "![alt text](https://github.com/adam-p/markdown-here/raw/master/src/common/images/icon48.png \"Logo Title Text 1\")"
   ]
  },
  {
   "cell_type": "code",
   "execution_count": 2,
   "metadata": {},
   "outputs": [
    {
     "name": "stdout",
     "output_type": "stream",
     "text": [
      "Hola Mundo\n"
     ]
    }
   ],
   "source": [
    "print(\"Hola Mundo\")"
   ]
  },
  {
   "cell_type": "code",
   "execution_count": 3,
   "metadata": {},
   "outputs": [
    {
     "name": "stdout",
     "output_type": "stream",
     "text": [
      "Hola Mundo\n"
     ]
    }
   ],
   "source": [
    "print(\"Hola Mundo\")"
   ]
  },
  {
   "cell_type": "code",
   "execution_count": 4,
   "metadata": {},
   "outputs": [
    {
     "name": "stdout",
     "output_type": "stream",
     "text": [
      "Hola Mundo\n"
     ]
    }
   ],
   "source": [
    "print(\"Hola Mundo\")"
   ]
  },
  {
   "cell_type": "code",
   "execution_count": 10,
   "metadata": {},
   "outputs": [
    {
     "name": "stdout",
     "output_type": "stream",
     "text": [
      "<class 'int'>\n",
      "<class 'float'>\n",
      "<class 'str'>\n",
      "<class 'str'>\n",
      "<class 'str'>\n",
      "<class 'bool'>\n",
      "<class 'bool'>\n",
      "<class 'NoneType'>\n"
     ]
    }
   ],
   "source": [
    "## No tipado! (no declarar nunca el tipo de variable)\n",
    "#Variables primitivas\n",
    "entero = 4\n",
    "decimales = 1.1\n",
    "nombre = \"Rafael\"\n",
    "segundo_nombre = \"Eduardo\" #No se usa camelCase\n",
    "apellido = 'Vinueza'\n",
    "casado = False\n",
    "estudiante = True\n",
    "hijos = None #Null\n",
    "print(type(entero)) #int\n",
    "print(type(decimales)) #float\n",
    "print(type(nombre)) #string\n",
    "print(type(segundo_nombre)) #string\n",
    "print(type(apellido)) #string\n",
    "print(type(casado)) #boolean\n",
    "print(type(estudiante)) #boolean\n",
    "print(type(hijos)) #none_type"
   ]
  },
  {
   "cell_type": "code",
   "execution_count": 6,
   "metadata": {},
   "outputs": [
    {
     "name": "stdout",
     "output_type": "stream",
     "text": [
      "\n",
      "First ordered list item\n",
      "Another item\n",
      "Unordered sub-list.\n",
      "Actual numbers don't matter, just that it's a number\n",
      "\n",
      "Ordered sub-list\n",
      "\n",
      "And another item.\n",
      "\n",
      "You can have properly indented paragraphs within list items. Notice the blank line above, and the leading spaces (at least one, but we'll use three here to also align the raw Markdown).\n",
      "\n",
      "To have a line break without a paragraph, you will need to use two trailing spaces.\n",
      "Note that this line is separate, but within the same paragraph.\n",
      "(This is contrary to the typical GFM line break behaviour, where trailing spaces are not required.)\n",
      "\n",
      "Unordered list can use asterisks\n",
      "Or minuses\n",
      "Or pluses\n",
      "\n",
      "\n"
     ]
    }
   ],
   "source": [
    "cadena_de_texto = \"\"\"\n",
    "First ordered list item\n",
    "Another item\n",
    "Unordered sub-list.\n",
    "Actual numbers don't matter, just that it's a number\n",
    "\n",
    "Ordered sub-list\n",
    "\n",
    "And another item.\n",
    "\n",
    "You can have properly indented paragraphs within list items. Notice the blank line above, and the leading spaces (at least one, but we'll use three here to also align the raw Markdown).\n",
    "\n",
    "To have a line break without a paragraph, you will need to use two trailing spaces.\n",
    "Note that this line is separate, but within the same paragraph.\n",
    "(This is contrary to the typical GFM line break behaviour, where trailing spaces are not required.)\n",
    "\n",
    "Unordered list can use asterisks\n",
    "Or minuses\n",
    "Or pluses\n",
    "\n",
    "\"\"\"\n",
    "print(cadena_de_texto)"
   ]
  },
  {
   "cell_type": "code",
   "execution_count": 11,
   "metadata": {},
   "outputs": [
    {
     "name": "stdout",
     "output_type": "stream",
     "text": [
      "4\n",
      "Rafael\n"
     ]
    }
   ],
   "source": [
    "print(entero)\n",
    "entero = nombre\n",
    "print(entero)"
   ]
  },
  {
   "cell_type": "code",
   "execution_count": 9,
   "metadata": {},
   "outputs": [
    {
     "name": "stdout",
     "output_type": "stream",
     "text": [
      "Truty\n",
      "Falsy\n"
     ]
    }
   ],
   "source": [
    "#Truty - Falsy\n",
    "\n",
    "tuplas = (1,2,3) #Arreglos que no se pueden modificar\n",
    "listas = [4,5,6] #Arreglos que si se pueden modificar\n",
    "\n",
    "\n",
    "if('Rafael'):\n",
    "    print('Truty')\n",
    "else:\n",
    "    print('Falsy')\n",
    "    \n",
    "if(''):\n",
    "    print('Truty')\n",
    "else:\n",
    "    print('Falsy')"
   ]
  },
  {
   "cell_type": "code",
   "execution_count": null,
   "metadata": {},
   "outputs": [],
   "source": []
  }
 ],
 "metadata": {
  "kernelspec": {
   "display_name": "Python 3",
   "language": "python",
   "name": "python3"
  },
  "language_info": {
   "codemirror_mode": {
    "name": "ipython",
    "version": 3
   },
   "file_extension": ".py",
   "mimetype": "text/x-python",
   "name": "python",
   "nbconvert_exporter": "python",
   "pygments_lexer": "ipython3",
   "version": "3.7.6"
  }
 },
 "nbformat": 4,
 "nbformat_minor": 4
}
