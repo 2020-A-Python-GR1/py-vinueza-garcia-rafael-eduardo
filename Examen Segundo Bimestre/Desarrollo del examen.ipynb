{
 "cells": [
  {
   "cell_type": "markdown",
   "metadata": {},
   "source": [
    "#  Examen"
   ]
  },
  {
   "cell_type": "markdown",
   "metadata": {},
   "source": [
    "## 1) Crea un Dataframe de 10 registros y 6 columnas y consigue las 5 primeros y los 5 ultimos registros"
   ]
  },
  {
   "cell_type": "code",
   "execution_count": 32,
   "metadata": {},
   "outputs": [
    {
     "name": "stdout",
     "output_type": "stream",
     "text": [
      "   0  1  2  3  4  5\n",
      "0  1  0  6  9  2  3\n",
      "1  0  4  8  4  5  5\n",
      "2  1  1  4  6  7  9\n",
      "3  0  2  3  8  3  6\n",
      "4  9  9  9  4  0  4\n",
      "\n",
      "\n",
      "   0  1  2  3  4  5\n",
      "5  9  8  9  6  6  4\n",
      "6  2  8  5  0  1  3\n",
      "7  4  3  6  0  2  7\n",
      "8  6  1  7  1  7  9\n",
      "9  2  7  7  5  9  5\n"
     ]
    }
   ],
   "source": [
    "import pandas as pd\n",
    "import numpy as np\n",
    "\n",
    "#Suponiendo que con registros se refiere a filas\n",
    "arr_1 = np.random.randint(10, size=60).reshape(10,6)\n",
    "df1 = pd.DataFrame(arr_1)\n",
    "print(df1.head(5))\n",
    "print('\\n')\n",
    "print(df1.tail(5))"
   ]
  },
  {
   "cell_type": "markdown",
   "metadata": {},
   "source": [
    "## 2) Crear un dataframe pasando un arreglo de numpy de 6 x 4 con una fecha como indice y con columnas A, B, C, D randomico\n",
    "\n",
    "\n",
    "```\n",
    "                   A         B         C         D\n",
    "2013-01-01  0.469112 -0.282863 -1.509059 -1.135632\n",
    "2013-01-02  1.212112 -0.173215  0.119209 -1.044236\n",
    "2013-01-03 -0.861849 -2.104569 -0.494929  1.071804\n",
    "2013-01-04  0.721555 -0.706771 -1.039575  0.271860\n",
    "2013-01-05 -0.424972  0.567020  0.276232 -1.087401\n",
    "2013-01-06 -0.673690  0.113648 -1.478427  0.524988\n",
    "```"
   ]
  },
  {
   "cell_type": "code",
   "execution_count": 40,
   "metadata": {},
   "outputs": [
    {
     "name": "stdout",
     "output_type": "stream",
     "text": [
      "                   A         B         C         D\n",
      "2020-09-22  0.620410  0.892135  0.293883  0.311198\n",
      "2020-09-22  0.653631  0.172334  0.367259  0.473966\n",
      "2020-09-22  0.989276  0.681793  0.381412  0.803936\n",
      "2020-09-22  0.629985  0.630059  0.406906  0.791618\n",
      "2020-09-22  0.313430  0.737851  0.555180  0.611702\n",
      "2020-09-22  0.153875  0.623816  0.690516  0.447748\n"
     ]
    }
   ],
   "source": [
    "from datetime import date\n",
    "from datetime import datetime\n",
    "\n",
    "today = date.today()\n",
    "arr_2 = np.random.rand(24).reshape(6,4)\n",
    "df2 = pd.DataFrame(arr_2)\n",
    "df2.index = [today, today, today, today, today, today]\n",
    "df2.columns = ['A','B','C','D']\n",
    "print(df2)"
   ]
  },
  {
   "cell_type": "markdown",
   "metadata": {},
   "source": [
    "## 4) Crear un Dataframe con 10 registros y 6 columnas y con una propiedad del Dataframe mostrar las columnas, con otro comando mostrar los valores."
   ]
  },
  {
   "cell_type": "code",
   "execution_count": 44,
   "metadata": {},
   "outputs": [
    {
     "name": "stdout",
     "output_type": "stream",
     "text": [
      "[0, 1, 2, 3, 4, 5]\n",
      "\n",
      "\n",
      "[0, 1, 2, 3, 4, 5, 6, 7, 8, 9]\n"
     ]
    }
   ],
   "source": [
    "#Suponiendo que con registros se refiere a filas\n",
    "arr_3 = np.random.randint(10, size=60).reshape(10,6)\n",
    "df3 = pd.DataFrame(arr_3)\n",
    "print(df3.columns.tolist())\n",
    "print('\\n')\n",
    "print(df3.index.tolist())"
   ]
  },
  {
   "cell_type": "markdown",
   "metadata": {},
   "source": [
    "## 5) Crear un Dataframe con 10 registros y 6 columnas y con una funcion del Dataframe describir estadisticamente el Dataframe"
   ]
  },
  {
   "cell_type": "code",
   "execution_count": 46,
   "metadata": {},
   "outputs": [
    {
     "data": {
      "text/html": [
       "<div>\n",
       "<style scoped>\n",
       "    .dataframe tbody tr th:only-of-type {\n",
       "        vertical-align: middle;\n",
       "    }\n",
       "\n",
       "    .dataframe tbody tr th {\n",
       "        vertical-align: top;\n",
       "    }\n",
       "\n",
       "    .dataframe thead th {\n",
       "        text-align: right;\n",
       "    }\n",
       "</style>\n",
       "<table border=\"1\" class=\"dataframe\">\n",
       "  <thead>\n",
       "    <tr style=\"text-align: right;\">\n",
       "      <th></th>\n",
       "      <th>0</th>\n",
       "      <th>1</th>\n",
       "      <th>2</th>\n",
       "      <th>3</th>\n",
       "      <th>4</th>\n",
       "      <th>5</th>\n",
       "    </tr>\n",
       "  </thead>\n",
       "  <tbody>\n",
       "    <tr>\n",
       "      <th>count</th>\n",
       "      <td>10.000000</td>\n",
       "      <td>10.000000</td>\n",
       "      <td>10.000000</td>\n",
       "      <td>10.000000</td>\n",
       "      <td>10.000000</td>\n",
       "      <td>10.000000</td>\n",
       "    </tr>\n",
       "    <tr>\n",
       "      <th>mean</th>\n",
       "      <td>5.100000</td>\n",
       "      <td>4.700000</td>\n",
       "      <td>4.100000</td>\n",
       "      <td>4.000000</td>\n",
       "      <td>4.500000</td>\n",
       "      <td>5.000000</td>\n",
       "    </tr>\n",
       "    <tr>\n",
       "      <th>std</th>\n",
       "      <td>2.998148</td>\n",
       "      <td>2.496664</td>\n",
       "      <td>2.514403</td>\n",
       "      <td>2.708013</td>\n",
       "      <td>3.205897</td>\n",
       "      <td>2.708013</td>\n",
       "    </tr>\n",
       "    <tr>\n",
       "      <th>min</th>\n",
       "      <td>1.000000</td>\n",
       "      <td>0.000000</td>\n",
       "      <td>0.000000</td>\n",
       "      <td>0.000000</td>\n",
       "      <td>1.000000</td>\n",
       "      <td>1.000000</td>\n",
       "    </tr>\n",
       "    <tr>\n",
       "      <th>25%</th>\n",
       "      <td>2.500000</td>\n",
       "      <td>4.000000</td>\n",
       "      <td>2.500000</td>\n",
       "      <td>2.250000</td>\n",
       "      <td>2.250000</td>\n",
       "      <td>3.000000</td>\n",
       "    </tr>\n",
       "    <tr>\n",
       "      <th>50%</th>\n",
       "      <td>5.500000</td>\n",
       "      <td>6.000000</td>\n",
       "      <td>4.500000</td>\n",
       "      <td>4.000000</td>\n",
       "      <td>3.000000</td>\n",
       "      <td>5.500000</td>\n",
       "    </tr>\n",
       "    <tr>\n",
       "      <th>75%</th>\n",
       "      <td>7.750000</td>\n",
       "      <td>6.000000</td>\n",
       "      <td>5.000000</td>\n",
       "      <td>5.000000</td>\n",
       "      <td>7.750000</td>\n",
       "      <td>7.000000</td>\n",
       "    </tr>\n",
       "    <tr>\n",
       "      <th>max</th>\n",
       "      <td>9.000000</td>\n",
       "      <td>8.000000</td>\n",
       "      <td>8.000000</td>\n",
       "      <td>9.000000</td>\n",
       "      <td>9.000000</td>\n",
       "      <td>9.000000</td>\n",
       "    </tr>\n",
       "  </tbody>\n",
       "</table>\n",
       "</div>"
      ],
      "text/plain": [
       "               0          1          2          3          4          5\n",
       "count  10.000000  10.000000  10.000000  10.000000  10.000000  10.000000\n",
       "mean    5.100000   4.700000   4.100000   4.000000   4.500000   5.000000\n",
       "std     2.998148   2.496664   2.514403   2.708013   3.205897   2.708013\n",
       "min     1.000000   0.000000   0.000000   0.000000   1.000000   1.000000\n",
       "25%     2.500000   4.000000   2.500000   2.250000   2.250000   3.000000\n",
       "50%     5.500000   6.000000   4.500000   4.000000   3.000000   5.500000\n",
       "75%     7.750000   6.000000   5.000000   5.000000   7.750000   7.000000\n",
       "max     9.000000   8.000000   8.000000   9.000000   9.000000   9.000000"
      ]
     },
     "execution_count": 46,
     "metadata": {},
     "output_type": "execute_result"
    }
   ],
   "source": [
    "#Suponiendo que con registros se refiere a filas\n",
    "arr_3 = np.random.randint(10, size=60).reshape(10,6)\n",
    "df3 = pd.DataFrame(arr_3)\n",
    "\n",
    "# No entendi muy bien a lo que se refiere con describir estadisticamente pero use la funcion describe\n",
    "df3.describe()"
   ]
  },
  {
   "cell_type": "markdown",
   "metadata": {},
   "source": [
    "## 6) Crear un Dataframe con 10 registros y 6 columnas y con una funcion del Dataframe transponer los datos"
   ]
  },
  {
   "cell_type": "code",
   "execution_count": 48,
   "metadata": {},
   "outputs": [
    {
     "name": "stdout",
     "output_type": "stream",
     "text": [
      "   0  1  2  3  4  5\n",
      "0  5  7  4  8  0  3\n",
      "1  2  2  1  3  1  7\n",
      "2  6  1  2  1  6  4\n",
      "3  0  7  1  3  0  9\n",
      "4  6  2  7  2  2  3\n",
      "5  8  7  4  0  7  7\n",
      "6  2  8  2  0  6  5\n",
      "7  2  6  4  3  0  8\n",
      "8  7  9  5  3  6  6\n",
      "9  8  8  2  0  3  9\n",
      "\n",
      "\n",
      "   0  1  2  3  4  5  6  7  8  9\n",
      "0  5  2  6  0  6  8  2  2  7  8\n",
      "1  7  2  1  7  2  7  8  6  9  8\n",
      "2  4  1  2  1  7  4  2  4  5  2\n",
      "3  8  3  1  3  2  0  0  3  3  0\n",
      "4  0  1  6  0  2  7  6  0  6  3\n",
      "5  3  7  4  9  3  7  5  8  6  9\n"
     ]
    }
   ],
   "source": [
    "arr_3 = np.random.randint(10, size=60).reshape(10,6)\n",
    "df3 = pd.DataFrame(arr_3)\n",
    "print(df3)\n",
    "print('\\n')\n",
    "print(df3.T)"
   ]
  },
  {
   "cell_type": "markdown",
   "metadata": {},
   "source": [
    "## 7) Crear un Dataframe con 10 registros y 6 columnas y Ordenar el dataframe 1 vez por cada columna, ascendente y descendente"
   ]
  },
  {
   "cell_type": "code",
   "execution_count": 56,
   "metadata": {},
   "outputs": [
    {
     "data": {
      "text/html": [
       "<div>\n",
       "<style scoped>\n",
       "    .dataframe tbody tr th:only-of-type {\n",
       "        vertical-align: middle;\n",
       "    }\n",
       "\n",
       "    .dataframe tbody tr th {\n",
       "        vertical-align: top;\n",
       "    }\n",
       "\n",
       "    .dataframe thead th {\n",
       "        text-align: right;\n",
       "    }\n",
       "</style>\n",
       "<table border=\"1\" class=\"dataframe\">\n",
       "  <thead>\n",
       "    <tr style=\"text-align: right;\">\n",
       "      <th></th>\n",
       "      <th>A</th>\n",
       "      <th>B</th>\n",
       "      <th>C</th>\n",
       "      <th>D</th>\n",
       "      <th>E</th>\n",
       "      <th>F</th>\n",
       "    </tr>\n",
       "  </thead>\n",
       "  <tbody>\n",
       "    <tr>\n",
       "      <th>3</th>\n",
       "      <td>3</td>\n",
       "      <td>1</td>\n",
       "      <td>8</td>\n",
       "      <td>5</td>\n",
       "      <td>9</td>\n",
       "      <td>0</td>\n",
       "    </tr>\n",
       "    <tr>\n",
       "      <th>0</th>\n",
       "      <td>9</td>\n",
       "      <td>3</td>\n",
       "      <td>7</td>\n",
       "      <td>1</td>\n",
       "      <td>4</td>\n",
       "      <td>2</td>\n",
       "    </tr>\n",
       "    <tr>\n",
       "      <th>1</th>\n",
       "      <td>2</td>\n",
       "      <td>9</td>\n",
       "      <td>6</td>\n",
       "      <td>1</td>\n",
       "      <td>6</td>\n",
       "      <td>2</td>\n",
       "    </tr>\n",
       "    <tr>\n",
       "      <th>6</th>\n",
       "      <td>3</td>\n",
       "      <td>5</td>\n",
       "      <td>6</td>\n",
       "      <td>0</td>\n",
       "      <td>8</td>\n",
       "      <td>3</td>\n",
       "    </tr>\n",
       "    <tr>\n",
       "      <th>2</th>\n",
       "      <td>0</td>\n",
       "      <td>7</td>\n",
       "      <td>1</td>\n",
       "      <td>8</td>\n",
       "      <td>7</td>\n",
       "      <td>6</td>\n",
       "    </tr>\n",
       "    <tr>\n",
       "      <th>8</th>\n",
       "      <td>8</td>\n",
       "      <td>2</td>\n",
       "      <td>4</td>\n",
       "      <td>6</td>\n",
       "      <td>1</td>\n",
       "      <td>6</td>\n",
       "    </tr>\n",
       "    <tr>\n",
       "      <th>5</th>\n",
       "      <td>8</td>\n",
       "      <td>7</td>\n",
       "      <td>7</td>\n",
       "      <td>5</td>\n",
       "      <td>2</td>\n",
       "      <td>7</td>\n",
       "    </tr>\n",
       "    <tr>\n",
       "      <th>7</th>\n",
       "      <td>1</td>\n",
       "      <td>5</td>\n",
       "      <td>8</td>\n",
       "      <td>1</td>\n",
       "      <td>5</td>\n",
       "      <td>7</td>\n",
       "    </tr>\n",
       "    <tr>\n",
       "      <th>9</th>\n",
       "      <td>4</td>\n",
       "      <td>7</td>\n",
       "      <td>0</td>\n",
       "      <td>4</td>\n",
       "      <td>7</td>\n",
       "      <td>7</td>\n",
       "    </tr>\n",
       "    <tr>\n",
       "      <th>4</th>\n",
       "      <td>3</td>\n",
       "      <td>2</td>\n",
       "      <td>4</td>\n",
       "      <td>0</td>\n",
       "      <td>0</td>\n",
       "      <td>8</td>\n",
       "    </tr>\n",
       "  </tbody>\n",
       "</table>\n",
       "</div>"
      ],
      "text/plain": [
       "   A  B  C  D  E  F\n",
       "3  3  1  8  5  9  0\n",
       "0  9  3  7  1  4  2\n",
       "1  2  9  6  1  6  2\n",
       "6  3  5  6  0  8  3\n",
       "2  0  7  1  8  7  6\n",
       "8  8  2  4  6  1  6\n",
       "5  8  7  7  5  2  7\n",
       "7  1  5  8  1  5  7\n",
       "9  4  7  0  4  7  7\n",
       "4  3  2  4  0  0  8"
      ]
     },
     "execution_count": 56,
     "metadata": {},
     "output_type": "execute_result"
    }
   ],
   "source": [
    "arr_3 = np.random.randint(10, size=60).reshape(10,6)\n",
    "df3 = pd.DataFrame(arr_3)\n",
    "df3.columns = ['A','B','C','D','E','F']\n",
    "\n",
    "df3.sort_values('A',ascending=False)\n",
    "df3.sort_values('B',ascending=False)\n",
    "df3.sort_values('C',ascending=False)\n",
    "df3.sort_values('D',ascending=False)\n",
    "df3.sort_values('E',ascending=False)\n",
    "df3.sort_values('F',ascending=False)\n",
    "\n",
    "df3.sort_values('A',ascending=True)\n",
    "df3.sort_values('B',ascending=True)\n",
    "df3.sort_values('C',ascending=True)\n",
    "df3.sort_values('D',ascending=True)\n",
    "df3.sort_values('E',ascending=True)\n",
    "df3.sort_values('F',ascending=True)\n",
    "\n",
    "#Solo se va a impriir la ultima ordenacion pero espero que se entienda la idea inge"
   ]
  },
  {
   "cell_type": "markdown",
   "metadata": {},
   "source": [
    "## 8) Crear un Dataframe con 10 registros y 6 columnas llenas de números randomicos del 1 al 10 y seleccionar en un nuevo Dataframe solo los valores mayores a 7"
   ]
  },
  {
   "cell_type": "code",
   "execution_count": 75,
   "metadata": {},
   "outputs": [
    {
     "name": "stdout",
     "output_type": "stream",
     "text": [
      "    0   1    2    3    4    5\n",
      "0 NaN NaN  NaN  NaN  8.0  NaN\n",
      "1 NaN NaN  8.0  9.0  NaN  NaN\n",
      "2 NaN NaN  NaN  9.0  NaN  NaN\n",
      "3 NaN NaN  NaN  NaN  NaN  9.0\n",
      "4 NaN NaN  NaN  9.0  8.0  NaN\n",
      "5 NaN NaN  NaN  NaN  9.0  NaN\n",
      "6 NaN NaN  NaN  8.0  NaN  NaN\n",
      "7 NaN NaN  8.0  8.0  NaN  NaN\n",
      "8 NaN NaN  NaN  9.0  8.0  NaN\n",
      "9 NaN NaN  NaN  NaN  NaN  NaN\n"
     ]
    }
   ],
   "source": [
    "arr_4 = np.random.randint(10, size=60).reshape(10,6)\n",
    "df4 = pd.DataFrame(arr_4)\n",
    "df5 = df4 > 7\n",
    "print(df4[df5])"
   ]
  },
  {
   "cell_type": "markdown",
   "metadata": {},
   "source": [
    "## 9) Crear un Dataframe con 10 registros y 6 columnas llenas de números randomicos del 1 al 10 o valores NaN. Luego llenar los valores NaN con 0."
   ]
  },
  {
   "cell_type": "code",
   "execution_count": 78,
   "metadata": {},
   "outputs": [
    {
     "name": "stdout",
     "output_type": "stream",
     "text": [
      "     0    1    2    3    4    5\n",
      "0  7.0  9.0  3.0  6.0  NaN  NaN\n",
      "1  3.0  9.0  8.0  NaN  NaN  NaN\n",
      "2  NaN  5.0  6.0  3.0  3.0  NaN\n",
      "3  NaN  9.0  4.0  3.0  4.0  7.0\n",
      "4  4.0  3.0  9.0  NaN  4.0  3.0\n",
      "5  3.0  5.0  NaN  3.0  3.0  7.0\n",
      "6  NaN  4.0  NaN  8.0  NaN  NaN\n",
      "7  NaN  NaN  3.0  7.0  5.0  NaN\n",
      "8  3.0  8.0  6.0  3.0  8.0  NaN\n",
      "9  NaN  5.0  3.0  7.0  9.0  NaN\n",
      "\n",
      "\n",
      "     0    1    2    3    4    5\n",
      "0  7.0  9.0  3.0  6.0  0.0  0.0\n",
      "1  3.0  9.0  8.0  0.0  0.0  0.0\n",
      "2  0.0  5.0  6.0  3.0  3.0  0.0\n",
      "3  0.0  9.0  4.0  3.0  4.0  7.0\n",
      "4  4.0  3.0  9.0  0.0  4.0  3.0\n",
      "5  3.0  5.0  0.0  3.0  3.0  7.0\n",
      "6  0.0  4.0  0.0  8.0  0.0  0.0\n",
      "7  0.0  0.0  3.0  7.0  5.0  0.0\n",
      "8  3.0  8.0  6.0  3.0  8.0  0.0\n",
      "9  0.0  5.0  3.0  7.0  9.0  0.0\n"
     ]
    }
   ],
   "source": [
    "arr_4 = np.random.randint(10, size=60).reshape(10,6)\n",
    "df4 = pd.DataFrame(arr_4)\n",
    "df5 = df4[df4 > 2]\n",
    "print(df5)\n",
    "df5 = df5.fillna(0)\n",
    "print('\\n')\n",
    "print(df5)"
   ]
  },
  {
   "cell_type": "markdown",
   "metadata": {},
   "source": [
    "## 10) Crear un Dataframe con 10 registros y 6 columnas llenas de números randomicos del 1 al 10 y sacar la media, la mediana, el promedio"
   ]
  },
  {
   "cell_type": "code",
   "execution_count": 80,
   "metadata": {},
   "outputs": [
    {
     "name": "stdout",
     "output_type": "stream",
     "text": [
      "0    4.9\n",
      "1    5.8\n",
      "2    5.0\n",
      "3    3.2\n",
      "4    5.0\n",
      "5    4.7\n",
      "dtype: float64\n",
      "0    5.0\n",
      "1    6.0\n",
      "2    5.0\n",
      "3    3.5\n",
      "4    5.5\n",
      "5    4.5\n",
      "dtype: float64\n",
      "0    2.998148\n",
      "1    2.699794\n",
      "2    1.943651\n",
      "3    2.780887\n",
      "4    3.162278\n",
      "5    2.710064\n",
      "dtype: float64\n"
     ]
    }
   ],
   "source": [
    "arr_4 = np.random.randint(10, size=60).reshape(10,6)\n",
    "df4 = pd.DataFrame(arr_4)\n",
    "\n",
    "print((df4.mean()))\n",
    "print((df4.median()))\n",
    "print((df4.std()))"
   ]
  },
  {
   "cell_type": "markdown",
   "metadata": {},
   "source": [
    "## 11) Crear un Dataframe con 10 registros y 6 columnas llenas de números randomicos del 1 al 10, luego crear otro dateframe con 10 registros y 6 columnas llenas de números randomicos del 1 al 10 y anadirlo al primer Dataframe"
   ]
  },
  {
   "cell_type": "code",
   "execution_count": 82,
   "metadata": {},
   "outputs": [
    {
     "name": "stdout",
     "output_type": "stream",
     "text": [
      "   0  1  2  3  4  5\n",
      "0  5  5  8  2  7  9\n",
      "1  4  7  6  5  1  2\n",
      "2  0  7  9  4  6  8\n",
      "3  5  5  6  7  0  0\n",
      "4  5  1  4  2  9  7\n",
      "5  7  7  3  3  0  6\n",
      "6  5  8  8  4  2  6\n",
      "7  5  0  5  2  8  2\n",
      "8  5  3  7  7  7  6\n",
      "9  2  6  0  2  3  5\n",
      "0  3  5  8  2  8  2\n",
      "1  6  9  7  2  0  4\n",
      "2  8  8  8  2  5  2\n",
      "3  9  0  9  5  5  7\n",
      "4  5  7  9  9  6  8\n",
      "5  6  2  6  0  4  7\n",
      "6  3  4  9  7  1  4\n",
      "7  3  2  3  4  8  2\n",
      "8  5  3  9  7  4  2\n",
      "9  0  4  2  0  0  8\n"
     ]
    }
   ],
   "source": [
    "arr_4 = np.random.randint(10, size=60).reshape(10,6)\n",
    "df4 = pd.DataFrame(arr_4)\n",
    "\n",
    "arr_5 = np.random.randint(10, size=60).reshape(10,6)\n",
    "df5 = pd.DataFrame(arr_5)\n",
    "\n",
    "print(df4.append(df5))"
   ]
  },
  {
   "cell_type": "markdown",
   "metadata": {},
   "source": [
    "## 12) Crear un Dataframe con 10 registros y 6 columnas llenas de strings. Luego, unir la columna 1 y 2 en una sola, la 3 y 4, y la 5 y 6 concatenando su texto."
   ]
  },
  {
   "cell_type": "code",
   "execution_count": 101,
   "metadata": {},
   "outputs": [
    {
     "name": "stdout",
     "output_type": "stream",
     "text": [
      "     id          artist                                              title  \\\n",
      "0  1035   Blake, Robert  A Figure Bowing before a Seated Old Man with h...   \n",
      "1  1036   Blake, Robert  Two Drawings of Frightened Figures, Probably f...   \n",
      "2  1037   Blake, Robert  The Preaching of Warning. Verso: An Old Man En...   \n",
      "3  1038   Blake, Robert     Six Drawings of Figures with Outstretched Arms   \n",
      "4  1039  Blake, William  The Circle of the Lustful: Francesca da Rimini...   \n",
      "5  1040  Blake, William      Ciampolo the Barrator Tormented by the Devils   \n",
      "6  1041  Blake, William                        The Baffled Devils Fighting   \n",
      "7  1042  Blake, William  The Six-Footed Serpent Attacking Agnolo Brunel...   \n",
      "8  1043  Blake, William                 The Serpent Attacking Buoso Donati   \n",
      "9  1044  Blake, William                 The Pit of Disease: The Falsifiers   \n",
      "\n",
      "                                              medium    year  acquisitionYear  \\\n",
      "0  Watercolour, ink, chalk and graphite on paper....     NaN             1922   \n",
      "1                                  Graphite on paper     NaN             1922   \n",
      "2        Graphite on paper. Verso: graphite on paper  1785.0             1922   \n",
      "3                                  Graphite on paper     NaN             1922   \n",
      "4                            Line engraving on paper  1826.0             1919   \n",
      "5                            Line engraving on paper  1826.0             1919   \n",
      "6                            Line engraving on paper  1826.0             1919   \n",
      "7                            Line engraving on paper  1826.0             1919   \n",
      "8                            Line engraving on paper  1826.0             1919   \n",
      "9                            Line engraving on paper  1826.0             1919   \n",
      "\n",
      "                                               1 + 2  \\\n",
      "0  Blake, Robert A Figure Bowing before a Seated ...   \n",
      "1  Blake, Robert Two Drawings of Frightened Figur...   \n",
      "2  Blake, Robert The Preaching of Warning. Verso:...   \n",
      "3  Blake, Robert Six Drawings of Figures with Out...   \n",
      "4  Blake, William The Circle of the Lustful: Fran...   \n",
      "5  Blake, William Ciampolo the Barrator Tormented...   \n",
      "6         Blake, William The Baffled Devils Fighting   \n",
      "7  Blake, William The Six-Footed Serpent Attackin...   \n",
      "8  Blake, William The Serpent Attacking Buoso Donati   \n",
      "9  Blake, William The Pit of Disease: The Falsifiers   \n",
      "\n",
      "                                               3 + 4  \\\n",
      "0  Watercolour, ink, chalk and graphite on paper....   \n",
      "1  Graphite on paper 0       NaN\\n1       NaN\\n2 ...   \n",
      "2  Graphite on paper. Verso: graphite on paper 0 ...   \n",
      "3  Graphite on paper 0       NaN\\n1       NaN\\n2 ...   \n",
      "4  Line engraving on paper 0       NaN\\n1       N...   \n",
      "5  Line engraving on paper 0       NaN\\n1       N...   \n",
      "6  Line engraving on paper 0       NaN\\n1       N...   \n",
      "7  Line engraving on paper 0       NaN\\n1       N...   \n",
      "8  Line engraving on paper 0       NaN\\n1       N...   \n",
      "9  Line engraving on paper 0       NaN\\n1       N...   \n",
      "\n",
      "                                               5 + 6  \n",
      "0  0    1922\\n1    1922\\n2    1922\\n3    1922\\n4 ...  \n",
      "1  0    1922\\n1    1922\\n2    1922\\n3    1922\\n4 ...  \n",
      "2  0    1922\\n1    1922\\n2    1922\\n3    1922\\n4 ...  \n",
      "3  0    1922\\n1    1922\\n2    1922\\n3    1922\\n4 ...  \n",
      "4  0    1922\\n1    1922\\n2    1922\\n3    1922\\n4 ...  \n",
      "5  0    1922\\n1    1922\\n2    1922\\n3    1922\\n4 ...  \n",
      "6  0    1922\\n1    1922\\n2    1922\\n3    1922\\n4 ...  \n",
      "7  0    1922\\n1    1922\\n2    1922\\n3    1922\\n4 ...  \n",
      "8  0    1922\\n1    1922\\n2    1922\\n3    1922\\n4 ...  \n",
      "9  0    1922\\n1    1922\\n2    1922\\n3    1922\\n4 ...  \n"
     ]
    }
   ],
   "source": [
    "path = \"C://Users//Equipo//Documents//Gitkraken//py-vinueza-garcia-rafael-eduardo//03-pandas//data//artwork_data.csv\"\n",
    "\n",
    "columnas = ['id','artist','title','medium','year','acquisitionYear']\n",
    "df6 =  pd.read_csv(\n",
    "    path,\n",
    "    nrows=10,\n",
    "    usecols = columnas)\n",
    "\n",
    "df6[\"1 + 2\"] = df6[\"artist\"] + \" \" + df6[\"title\"]\n",
    "df6[\"3 + 4\"] = df6[\"medium\"] + \" \" + str(df6[\"year\"])\n",
    "df6[\"5 + 6\"] = str(df6[\"acquisitionYear\"]) + \" \" + df6[\"title\"]\n",
    "print(df6)"
   ]
  },
  {
   "cell_type": "markdown",
   "metadata": {},
   "source": [
    "## 13) Crear un Dataframe con 10 registros y 6 columnas llenas de números randomicos del 1 al 10 enteros, obtener la frecuencia de repeticion de los numeros enteros en cada columna"
   ]
  },
  {
   "cell_type": "code",
   "execution_count": 108,
   "metadata": {},
   "outputs": [
    {
     "data": {
      "text/plain": [
       "8    2\n",
       "4    2\n",
       "7    1\n",
       "6    1\n",
       "5    1\n",
       "3    1\n",
       "1    1\n",
       "0    1\n",
       "Name: 2, dtype: int64"
      ]
     },
     "execution_count": 108,
     "metadata": {},
     "output_type": "execute_result"
    }
   ],
   "source": [
    "arr_4 = np.random.randint(10, size=60).reshape(10,6)\n",
    "df4 = pd.DataFrame(arr_4)\n",
    "df4[1].value_counts()\n",
    "df4[2].value_counts()\n",
    "df4[3].value_counts()\n",
    "df4[4].value_counts()\n",
    "df4[5].value_counts()\n",
    "df4[2].value_counts()\n",
    "df4[2].value_counts()\n",
    "df4[2].value_counts()\n",
    "df4[2].value_counts()\n",
    "df4[2].value_counts()"
   ]
  },
  {
   "cell_type": "markdown",
   "metadata": {},
   "source": [
    "## 14) Crear un Dataframe con 10 registros y 3 columnas, A B C, llenas de números randomicos del 1 al 10 enteros. Crear una nueva columna con el calculo por fila (A * B ) / C"
   ]
  },
  {
   "cell_type": "code",
   "execution_count": 105,
   "metadata": {},
   "outputs": [],
   "source": [
    "arr_4 = np.random.randint(10, size=30).reshape(10,3)\n",
    "df4 = pd.DataFrame(arr_4)\n",
    "df4.columns = ['A','B','C']"
   ]
  },
  {
   "cell_type": "code",
   "execution_count": null,
   "metadata": {},
   "outputs": [],
   "source": []
  }
 ],
 "metadata": {
  "kernelspec": {
   "display_name": "Python 3",
   "language": "python",
   "name": "python3"
  },
  "language_info": {
   "codemirror_mode": {
    "name": "ipython",
    "version": 3
   },
   "file_extension": ".py",
   "mimetype": "text/x-python",
   "name": "python",
   "nbconvert_exporter": "python",
   "pygments_lexer": "ipython3",
   "version": "3.7.6"
  }
 },
 "nbformat": 4,
 "nbformat_minor": 4
}
